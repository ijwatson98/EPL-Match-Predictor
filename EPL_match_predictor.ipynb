{
 "cells": [
  {
   "cell_type": "markdown",
   "metadata": {},
   "source": [
    "### Imports"
   ]
  },
  {
   "cell_type": "code",
   "execution_count": 58,
   "metadata": {},
   "outputs": [],
   "source": [
    "import pandas as pd\n",
    "import datetime as dt\n",
    "\n",
    "matches = pd.read_csv(\"matches.csv\", index_col=0)"
   ]
  },
  {
   "cell_type": "markdown",
   "metadata": {},
   "source": [
    "### Data Cleaning and Feature Engineering"
   ]
  },
  {
   "cell_type": "code",
   "execution_count": 59,
   "metadata": {},
   "outputs": [
    {
     "data": {
      "text/html": [
       "<div>\n",
       "<style scoped>\n",
       "    .dataframe tbody tr th:only-of-type {\n",
       "        vertical-align: middle;\n",
       "    }\n",
       "\n",
       "    .dataframe tbody tr th {\n",
       "        vertical-align: top;\n",
       "    }\n",
       "\n",
       "    .dataframe thead th {\n",
       "        text-align: right;\n",
       "    }\n",
       "</style>\n",
       "<table border=\"1\" class=\"dataframe\">\n",
       "  <thead>\n",
       "    <tr style=\"text-align: right;\">\n",
       "      <th></th>\n",
       "      <th>date</th>\n",
       "      <th>time</th>\n",
       "      <th>comp</th>\n",
       "      <th>round</th>\n",
       "      <th>day</th>\n",
       "      <th>venue</th>\n",
       "      <th>result</th>\n",
       "      <th>gf</th>\n",
       "      <th>ga</th>\n",
       "      <th>opponent</th>\n",
       "      <th>...</th>\n",
       "      <th>match report</th>\n",
       "      <th>notes</th>\n",
       "      <th>sh</th>\n",
       "      <th>sot</th>\n",
       "      <th>dist</th>\n",
       "      <th>fk</th>\n",
       "      <th>pk</th>\n",
       "      <th>pkatt</th>\n",
       "      <th>season</th>\n",
       "      <th>team</th>\n",
       "    </tr>\n",
       "  </thead>\n",
       "  <tbody>\n",
       "    <tr>\n",
       "      <th>1</th>\n",
       "      <td>15/08/2021</td>\n",
       "      <td>16:30</td>\n",
       "      <td>Premier League</td>\n",
       "      <td>Matchweek 1</td>\n",
       "      <td>Sun</td>\n",
       "      <td>Away</td>\n",
       "      <td>L</td>\n",
       "      <td>0</td>\n",
       "      <td>1</td>\n",
       "      <td>Tottenham</td>\n",
       "      <td>...</td>\n",
       "      <td>Match Report</td>\n",
       "      <td>NaN</td>\n",
       "      <td>18</td>\n",
       "      <td>4</td>\n",
       "      <td>16.9</td>\n",
       "      <td>1</td>\n",
       "      <td>0</td>\n",
       "      <td>0</td>\n",
       "      <td>2022</td>\n",
       "      <td>Manchester City</td>\n",
       "    </tr>\n",
       "    <tr>\n",
       "      <th>2</th>\n",
       "      <td>21/08/2021</td>\n",
       "      <td>15:00</td>\n",
       "      <td>Premier League</td>\n",
       "      <td>Matchweek 2</td>\n",
       "      <td>Sat</td>\n",
       "      <td>Home</td>\n",
       "      <td>W</td>\n",
       "      <td>5</td>\n",
       "      <td>0</td>\n",
       "      <td>Norwich City</td>\n",
       "      <td>...</td>\n",
       "      <td>Match Report</td>\n",
       "      <td>NaN</td>\n",
       "      <td>16</td>\n",
       "      <td>4</td>\n",
       "      <td>17.3</td>\n",
       "      <td>1</td>\n",
       "      <td>0</td>\n",
       "      <td>0</td>\n",
       "      <td>2022</td>\n",
       "      <td>Manchester City</td>\n",
       "    </tr>\n",
       "    <tr>\n",
       "      <th>3</th>\n",
       "      <td>28/08/2021</td>\n",
       "      <td>12:30</td>\n",
       "      <td>Premier League</td>\n",
       "      <td>Matchweek 3</td>\n",
       "      <td>Sat</td>\n",
       "      <td>Home</td>\n",
       "      <td>W</td>\n",
       "      <td>5</td>\n",
       "      <td>0</td>\n",
       "      <td>Arsenal</td>\n",
       "      <td>...</td>\n",
       "      <td>Match Report</td>\n",
       "      <td>NaN</td>\n",
       "      <td>25</td>\n",
       "      <td>10</td>\n",
       "      <td>14.3</td>\n",
       "      <td>0</td>\n",
       "      <td>0</td>\n",
       "      <td>0</td>\n",
       "      <td>2022</td>\n",
       "      <td>Manchester City</td>\n",
       "    </tr>\n",
       "    <tr>\n",
       "      <th>4</th>\n",
       "      <td>11/09/2021</td>\n",
       "      <td>15:00</td>\n",
       "      <td>Premier League</td>\n",
       "      <td>Matchweek 4</td>\n",
       "      <td>Sat</td>\n",
       "      <td>Away</td>\n",
       "      <td>W</td>\n",
       "      <td>1</td>\n",
       "      <td>0</td>\n",
       "      <td>Leicester City</td>\n",
       "      <td>...</td>\n",
       "      <td>Match Report</td>\n",
       "      <td>NaN</td>\n",
       "      <td>25</td>\n",
       "      <td>8</td>\n",
       "      <td>14.0</td>\n",
       "      <td>0</td>\n",
       "      <td>0</td>\n",
       "      <td>0</td>\n",
       "      <td>2022</td>\n",
       "      <td>Manchester City</td>\n",
       "    </tr>\n",
       "    <tr>\n",
       "      <th>6</th>\n",
       "      <td>18/09/2021</td>\n",
       "      <td>15:00</td>\n",
       "      <td>Premier League</td>\n",
       "      <td>Matchweek 5</td>\n",
       "      <td>Sat</td>\n",
       "      <td>Home</td>\n",
       "      <td>D</td>\n",
       "      <td>0</td>\n",
       "      <td>0</td>\n",
       "      <td>Southampton</td>\n",
       "      <td>...</td>\n",
       "      <td>Match Report</td>\n",
       "      <td>NaN</td>\n",
       "      <td>16</td>\n",
       "      <td>1</td>\n",
       "      <td>15.7</td>\n",
       "      <td>1</td>\n",
       "      <td>0</td>\n",
       "      <td>0</td>\n",
       "      <td>2022</td>\n",
       "      <td>Manchester City</td>\n",
       "    </tr>\n",
       "  </tbody>\n",
       "</table>\n",
       "<p>5 rows × 27 columns</p>\n",
       "</div>"
      ],
      "text/plain": [
       "         date   time            comp        round  day venue result  gf  ga  \\\n",
       "1  15/08/2021  16:30  Premier League  Matchweek 1  Sun  Away      L   0   1   \n",
       "2  21/08/2021  15:00  Premier League  Matchweek 2  Sat  Home      W   5   0   \n",
       "3  28/08/2021  12:30  Premier League  Matchweek 3  Sat  Home      W   5   0   \n",
       "4  11/09/2021  15:00  Premier League  Matchweek 4  Sat  Away      W   1   0   \n",
       "6  18/09/2021  15:00  Premier League  Matchweek 5  Sat  Home      D   0   0   \n",
       "\n",
       "         opponent  ...  match report  notes  sh  sot  dist fk pk pkatt  \\\n",
       "1       Tottenham  ...  Match Report    NaN  18    4  16.9  1  0     0   \n",
       "2    Norwich City  ...  Match Report    NaN  16    4  17.3  1  0     0   \n",
       "3         Arsenal  ...  Match Report    NaN  25   10  14.3  0  0     0   \n",
       "4  Leicester City  ...  Match Report    NaN  25    8  14.0  0  0     0   \n",
       "6     Southampton  ...  Match Report    NaN  16    1  15.7  1  0     0   \n",
       "\n",
       "   season             team  \n",
       "1    2022  Manchester City  \n",
       "2    2022  Manchester City  \n",
       "3    2022  Manchester City  \n",
       "4    2022  Manchester City  \n",
       "6    2022  Manchester City  \n",
       "\n",
       "[5 rows x 27 columns]"
      ]
     },
     "execution_count": 59,
     "metadata": {},
     "output_type": "execute_result"
    }
   ],
   "source": [
    "matches.head()"
   ]
  },
  {
   "cell_type": "code",
   "execution_count": 60,
   "metadata": {},
   "outputs": [
    {
     "data": {
      "text/plain": [
       "Index(['date', 'time', 'comp', 'round', 'day', 'venue', 'result', 'gf', 'ga',\n",
       "       'opponent', 'xg', 'xga', 'poss', 'attendance', 'captain', 'formation',\n",
       "       'referee', 'match report', 'notes', 'sh', 'sot', 'dist', 'fk', 'pk',\n",
       "       'pkatt', 'season', 'team'],\n",
       "      dtype='object')"
      ]
     },
     "execution_count": 60,
     "metadata": {},
     "output_type": "execute_result"
    }
   ],
   "source": [
    "matches.columns"
   ]
  },
  {
   "cell_type": "code",
   "execution_count": 61,
   "metadata": {},
   "outputs": [],
   "source": [
    "matches.drop([\"round\", \n",
    "              \"comp\", \n",
    "              \"season\", \n",
    "              \"attendance\", \n",
    "              \"notes\", \n",
    "              \"captain\", \n",
    "              \"formation\", \n",
    "              \"referee\", \n",
    "              \"match report\", \n",
    "              \"notes\"], \n",
    "             axis=1, inplace=True)"
   ]
  },
  {
   "cell_type": "code",
   "execution_count": 62,
   "metadata": {},
   "outputs": [
    {
     "data": {
      "text/plain": [
       "West Ham United             72\n",
       "Southampton                 72\n",
       "Brighton and Hove Albion    72\n",
       "Manchester United           72\n",
       "Newcastle United            72\n",
       "Leeds United                71\n",
       "Manchester City             71\n",
       "Crystal Palace              71\n",
       "Wolverhampton Wanderers     71\n",
       "Tottenham Hotspur           71\n",
       "Burnley                     71\n",
       "Arsenal                     71\n",
       "Chelsea                     70\n",
       "Aston Villa                 70\n",
       "Everton                     70\n",
       "Leicester City              70\n",
       "Sheffield United            38\n",
       "Liverpool                   38\n",
       "West Bromwich Albion        38\n",
       "Fulham                      38\n",
       "Brentford                   34\n",
       "Norwich City                33\n",
       "Watford                     33\n",
       "Name: team, dtype: int64"
      ]
     },
     "execution_count": 62,
     "metadata": {},
     "output_type": "execute_result"
    }
   ],
   "source": [
    "matches[\"team\"].value_counts()"
   ]
  },
  {
   "cell_type": "code",
   "execution_count": 63,
   "metadata": {},
   "outputs": [],
   "source": [
    "matches[\"date\"] = pd.to_datetime(matches[\"date\"])"
   ]
  },
  {
   "cell_type": "code",
   "execution_count": 64,
   "metadata": {},
   "outputs": [],
   "source": [
    "matches[\"venue_code\"] = matches[\"venue\"].astype(\"category\").cat.codes"
   ]
  },
  {
   "cell_type": "code",
   "execution_count": 65,
   "metadata": {},
   "outputs": [],
   "source": [
    "# matches[\"home_team_code\"] = matches[\"home_team\"].astype(\"category\").cat.codes"
   ]
  },
  {
   "cell_type": "code",
   "execution_count": 66,
   "metadata": {},
   "outputs": [],
   "source": [
    "# matches[\"away_team_code\"] = matches[\"away_team\"].astype(\"category\").cat.codes"
   ]
  },
  {
   "cell_type": "code",
   "execution_count": 67,
   "metadata": {},
   "outputs": [],
   "source": [
    "matches[\"hour\"] = matches[\"time\"].str.replace(\":.+\", \"\", regex=True).astype(int)"
   ]
  },
  {
   "cell_type": "code",
   "execution_count": 68,
   "metadata": {},
   "outputs": [],
   "source": [
    "matches[\"day_code\"] = matches[\"date\"].dt.dayofweek"
   ]
  },
  {
   "cell_type": "code",
   "execution_count": 69,
   "metadata": {},
   "outputs": [],
   "source": [
    "class MissingDict(dict):\n",
    "    __missing__ = lambda self, key: key\n",
    "    \n",
    "map_values = {  \n",
    "    \"Brighton and Hove Albion\": \"Brighton\",\n",
    "    \"Manchester United\": \"Manchester Utd\",\n",
    "    \"Newcastle United\": \"Newcastle Utd\",\n",
    "    \"Sheffield United\": \"Sheffield Utd\",\n",
    "    \"Tottenham Hotspur\": \"Tottenham\",\n",
    "    \"West Bromwich Albion\": \"West Brom\",\n",
    "    \"West Ham United\": \"West Ham\",\n",
    "    \"Wolverhampton Wanderers\": \"Wolves\",    \n",
    "}\n",
    "mapping = MissingDict(**map_values)"
   ]
  },
  {
   "cell_type": "code",
   "execution_count": 70,
   "metadata": {},
   "outputs": [],
   "source": [
    "matches['team'] = matches['team'].map(mapping)"
   ]
  },
  {
   "cell_type": "code",
   "execution_count": 71,
   "metadata": {},
   "outputs": [
    {
     "data": {
      "text/html": [
       "<div>\n",
       "<style scoped>\n",
       "    .dataframe tbody tr th:only-of-type {\n",
       "        vertical-align: middle;\n",
       "    }\n",
       "\n",
       "    .dataframe tbody tr th {\n",
       "        vertical-align: top;\n",
       "    }\n",
       "\n",
       "    .dataframe thead th {\n",
       "        text-align: right;\n",
       "    }\n",
       "</style>\n",
       "<table border=\"1\" class=\"dataframe\">\n",
       "  <thead>\n",
       "    <tr style=\"text-align: right;\">\n",
       "      <th></th>\n",
       "      <th>date</th>\n",
       "      <th>time</th>\n",
       "      <th>day</th>\n",
       "      <th>venue</th>\n",
       "      <th>result</th>\n",
       "      <th>gf</th>\n",
       "      <th>ga</th>\n",
       "      <th>opponent</th>\n",
       "      <th>xg</th>\n",
       "      <th>xga</th>\n",
       "      <th>...</th>\n",
       "      <th>sh</th>\n",
       "      <th>sot</th>\n",
       "      <th>dist</th>\n",
       "      <th>fk</th>\n",
       "      <th>pk</th>\n",
       "      <th>pkatt</th>\n",
       "      <th>team</th>\n",
       "      <th>venue_code</th>\n",
       "      <th>hour</th>\n",
       "      <th>day_code</th>\n",
       "    </tr>\n",
       "  </thead>\n",
       "  <tbody>\n",
       "    <tr>\n",
       "      <th>1</th>\n",
       "      <td>2021-08-15</td>\n",
       "      <td>16:30</td>\n",
       "      <td>Sun</td>\n",
       "      <td>Away</td>\n",
       "      <td>L</td>\n",
       "      <td>0</td>\n",
       "      <td>1</td>\n",
       "      <td>Tottenham</td>\n",
       "      <td>1.9</td>\n",
       "      <td>1.3</td>\n",
       "      <td>...</td>\n",
       "      <td>18</td>\n",
       "      <td>4</td>\n",
       "      <td>16.9</td>\n",
       "      <td>1</td>\n",
       "      <td>0</td>\n",
       "      <td>0</td>\n",
       "      <td>Manchester City</td>\n",
       "      <td>0</td>\n",
       "      <td>16</td>\n",
       "      <td>6</td>\n",
       "    </tr>\n",
       "    <tr>\n",
       "      <th>2</th>\n",
       "      <td>2021-08-21</td>\n",
       "      <td>15:00</td>\n",
       "      <td>Sat</td>\n",
       "      <td>Home</td>\n",
       "      <td>W</td>\n",
       "      <td>5</td>\n",
       "      <td>0</td>\n",
       "      <td>Norwich City</td>\n",
       "      <td>2.7</td>\n",
       "      <td>0.1</td>\n",
       "      <td>...</td>\n",
       "      <td>16</td>\n",
       "      <td>4</td>\n",
       "      <td>17.3</td>\n",
       "      <td>1</td>\n",
       "      <td>0</td>\n",
       "      <td>0</td>\n",
       "      <td>Manchester City</td>\n",
       "      <td>1</td>\n",
       "      <td>15</td>\n",
       "      <td>5</td>\n",
       "    </tr>\n",
       "    <tr>\n",
       "      <th>3</th>\n",
       "      <td>2021-08-28</td>\n",
       "      <td>12:30</td>\n",
       "      <td>Sat</td>\n",
       "      <td>Home</td>\n",
       "      <td>W</td>\n",
       "      <td>5</td>\n",
       "      <td>0</td>\n",
       "      <td>Arsenal</td>\n",
       "      <td>3.8</td>\n",
       "      <td>0.1</td>\n",
       "      <td>...</td>\n",
       "      <td>25</td>\n",
       "      <td>10</td>\n",
       "      <td>14.3</td>\n",
       "      <td>0</td>\n",
       "      <td>0</td>\n",
       "      <td>0</td>\n",
       "      <td>Manchester City</td>\n",
       "      <td>1</td>\n",
       "      <td>12</td>\n",
       "      <td>5</td>\n",
       "    </tr>\n",
       "    <tr>\n",
       "      <th>4</th>\n",
       "      <td>2021-11-09</td>\n",
       "      <td>15:00</td>\n",
       "      <td>Sat</td>\n",
       "      <td>Away</td>\n",
       "      <td>W</td>\n",
       "      <td>1</td>\n",
       "      <td>0</td>\n",
       "      <td>Leicester City</td>\n",
       "      <td>2.9</td>\n",
       "      <td>0.8</td>\n",
       "      <td>...</td>\n",
       "      <td>25</td>\n",
       "      <td>8</td>\n",
       "      <td>14.0</td>\n",
       "      <td>0</td>\n",
       "      <td>0</td>\n",
       "      <td>0</td>\n",
       "      <td>Manchester City</td>\n",
       "      <td>0</td>\n",
       "      <td>15</td>\n",
       "      <td>1</td>\n",
       "    </tr>\n",
       "    <tr>\n",
       "      <th>6</th>\n",
       "      <td>2021-09-18</td>\n",
       "      <td>15:00</td>\n",
       "      <td>Sat</td>\n",
       "      <td>Home</td>\n",
       "      <td>D</td>\n",
       "      <td>0</td>\n",
       "      <td>0</td>\n",
       "      <td>Southampton</td>\n",
       "      <td>1.1</td>\n",
       "      <td>0.4</td>\n",
       "      <td>...</td>\n",
       "      <td>16</td>\n",
       "      <td>1</td>\n",
       "      <td>15.7</td>\n",
       "      <td>1</td>\n",
       "      <td>0</td>\n",
       "      <td>0</td>\n",
       "      <td>Manchester City</td>\n",
       "      <td>1</td>\n",
       "      <td>15</td>\n",
       "      <td>5</td>\n",
       "    </tr>\n",
       "  </tbody>\n",
       "</table>\n",
       "<p>5 rows × 21 columns</p>\n",
       "</div>"
      ],
      "text/plain": [
       "        date   time  day venue result  gf  ga        opponent   xg  xga  ...  \\\n",
       "1 2021-08-15  16:30  Sun  Away      L   0   1       Tottenham  1.9  1.3  ...   \n",
       "2 2021-08-21  15:00  Sat  Home      W   5   0    Norwich City  2.7  0.1  ...   \n",
       "3 2021-08-28  12:30  Sat  Home      W   5   0         Arsenal  3.8  0.1  ...   \n",
       "4 2021-11-09  15:00  Sat  Away      W   1   0  Leicester City  2.9  0.8  ...   \n",
       "6 2021-09-18  15:00  Sat  Home      D   0   0     Southampton  1.1  0.4  ...   \n",
       "\n",
       "   sh  sot  dist  fk  pk  pkatt             team venue_code  hour  day_code  \n",
       "1  18    4  16.9   1   0      0  Manchester City          0    16         6  \n",
       "2  16    4  17.3   1   0      0  Manchester City          1    15         5  \n",
       "3  25   10  14.3   0   0      0  Manchester City          1    12         5  \n",
       "4  25    8  14.0   0   0      0  Manchester City          0    15         1  \n",
       "6  16    1  15.7   1   0      0  Manchester City          1    15         5  \n",
       "\n",
       "[5 rows x 21 columns]"
      ]
     },
     "execution_count": 71,
     "metadata": {},
     "output_type": "execute_result"
    }
   ],
   "source": [
    "matches.head()"
   ]
  },
  {
   "cell_type": "code",
   "execution_count": 72,
   "metadata": {},
   "outputs": [],
   "source": [
    "#determine points acquired\n",
    "matches[\"points\"] = matches[\"result\"].apply(lambda row: 3 if row==\"W\" else 1 if row==\"D\" else 0)"
   ]
  },
  {
   "cell_type": "code",
   "execution_count": 73,
   "metadata": {},
   "outputs": [
    {
     "data": {
      "text/plain": [
       "Index(['date', 'time', 'day', 'venue', 'result', 'gf', 'ga', 'opponent', 'xg',\n",
       "       'xga', 'poss', 'sh', 'sot', 'dist', 'fk', 'pk', 'pkatt', 'team',\n",
       "       'venue_code', 'hour', 'day_code', 'points'],\n",
       "      dtype='object')"
      ]
     },
     "execution_count": 73,
     "metadata": {},
     "output_type": "execute_result"
    }
   ],
   "source": [
    "matches.columns"
   ]
  },
  {
   "cell_type": "code",
   "execution_count": 74,
   "metadata": {
    "scrolled": true
   },
   "outputs": [],
   "source": [
    "matches.sort_values('date', inplace=True)"
   ]
  },
  {
   "cell_type": "code",
   "execution_count": 124,
   "metadata": {},
   "outputs": [],
   "source": [
    "cols = ['points', 'gf', 'ga', 'sh', 'sot', 'dist', 'fk', 'pk', 'pkatt', 'poss', 'xg', 'xga']\n",
    "new_cols = [f\"{c}_rolling\" for c in cols]"
   ]
  },
  {
   "cell_type": "code",
   "execution_count": 125,
   "metadata": {},
   "outputs": [],
   "source": [
    "matches[new_cols] = matches.groupby('team')[cols].transform(lambda x: x.rolling(4).mean().shift().bfill())"
   ]
  },
  {
   "cell_type": "code",
   "execution_count": 126,
   "metadata": {},
   "outputs": [],
   "source": [
    "grp_matches = matches.groupby(\"team\").apply(lambda a: a[:]).drop('team', axis=1).droplevel(1)"
   ]
  },
  {
   "cell_type": "code",
   "execution_count": 127,
   "metadata": {},
   "outputs": [],
   "source": [
    "grp_matches.reset_index(inplace=True)"
   ]
  },
  {
   "cell_type": "code",
   "execution_count": 141,
   "metadata": {},
   "outputs": [],
   "source": [
    "avg_matches = grp_matches[['date', \n",
    "                           'team', \n",
    "                           'opponent', \n",
    "                           'venue_code', \n",
    "                           'hour', \n",
    "                           'day_code', \n",
    "                           'points_rolling', \n",
    "                           'gf_rolling', \n",
    "                           'ga_rolling', \n",
    "                           'sh_rolling', \n",
    "                           'sot_rolling', \n",
    "                           'dist_rolling', \n",
    "                           'fk_rolling', \n",
    "                           'pk_rolling', \n",
    "                           'pkatt_rolling',\n",
    "                           'poss_rolling',\n",
    "                           'xg_rolling', \n",
    "                           'xga_rolling', \n",
    "                           'points']].dropna(axis=0)"
   ]
  },
  {
   "cell_type": "code",
   "execution_count": 142,
   "metadata": {},
   "outputs": [],
   "source": [
    "home_matches = avg_matches[avg_matches[\"venue_code\"]==1].sort_values(\"date\")\n",
    "away_matches = avg_matches[avg_matches[\"venue_code\"]==0].sort_values(\"date\")"
   ]
  },
  {
   "cell_type": "code",
   "execution_count": 143,
   "metadata": {},
   "outputs": [
    {
     "data": {
      "text/html": [
       "<div>\n",
       "<style scoped>\n",
       "    .dataframe tbody tr th:only-of-type {\n",
       "        vertical-align: middle;\n",
       "    }\n",
       "\n",
       "    .dataframe tbody tr th {\n",
       "        vertical-align: top;\n",
       "    }\n",
       "\n",
       "    .dataframe thead th {\n",
       "        text-align: right;\n",
       "    }\n",
       "</style>\n",
       "<table border=\"1\" class=\"dataframe\">\n",
       "  <thead>\n",
       "    <tr style=\"text-align: right;\">\n",
       "      <th></th>\n",
       "      <th>date</th>\n",
       "      <th>team</th>\n",
       "      <th>opponent</th>\n",
       "      <th>venue_code</th>\n",
       "      <th>hour</th>\n",
       "      <th>day_code</th>\n",
       "      <th>points_rolling</th>\n",
       "      <th>gf_rolling</th>\n",
       "      <th>ga_rolling</th>\n",
       "      <th>sh_rolling</th>\n",
       "      <th>sot_rolling</th>\n",
       "      <th>dist_rolling</th>\n",
       "      <th>fk_rolling</th>\n",
       "      <th>pk_rolling</th>\n",
       "      <th>pkatt_rolling</th>\n",
       "      <th>poss_rolling</th>\n",
       "      <th>xg_rolling</th>\n",
       "      <th>xga_rolling</th>\n",
       "      <th>points</th>\n",
       "    </tr>\n",
       "  </thead>\n",
       "  <tbody>\n",
       "    <tr>\n",
       "      <th>1104</th>\n",
       "      <td>2020-01-11</td>\n",
       "      <td>Tottenham</td>\n",
       "      <td>Brighton</td>\n",
       "      <td>1</td>\n",
       "      <td>19</td>\n",
       "      <td>5</td>\n",
       "      <td>3.00</td>\n",
       "      <td>2.75</td>\n",
       "      <td>0.50</td>\n",
       "      <td>13.50</td>\n",
       "      <td>4.25</td>\n",
       "      <td>17.425</td>\n",
       "      <td>1.00</td>\n",
       "      <td>0.50</td>\n",
       "      <td>0.50</td>\n",
       "      <td>49.25</td>\n",
       "      <td>1.925</td>\n",
       "      <td>0.725</td>\n",
       "      <td>3</td>\n",
       "    </tr>\n",
       "    <tr>\n",
       "      <th>889</th>\n",
       "      <td>2020-01-11</td>\n",
       "      <td>Newcastle Utd</td>\n",
       "      <td>Everton</td>\n",
       "      <td>1</td>\n",
       "      <td>14</td>\n",
       "      <td>5</td>\n",
       "      <td>1.50</td>\n",
       "      <td>1.25</td>\n",
       "      <td>1.75</td>\n",
       "      <td>7.00</td>\n",
       "      <td>2.25</td>\n",
       "      <td>17.400</td>\n",
       "      <td>0.25</td>\n",
       "      <td>0.50</td>\n",
       "      <td>0.50</td>\n",
       "      <td>42.75</td>\n",
       "      <td>1.375</td>\n",
       "      <td>1.075</td>\n",
       "      <td>3</td>\n",
       "    </tr>\n",
       "    <tr>\n",
       "      <th>817</th>\n",
       "      <td>2020-01-11</td>\n",
       "      <td>Manchester Utd</td>\n",
       "      <td>Arsenal</td>\n",
       "      <td>1</td>\n",
       "      <td>16</td>\n",
       "      <td>5</td>\n",
       "      <td>1.50</td>\n",
       "      <td>1.75</td>\n",
       "      <td>2.25</td>\n",
       "      <td>10.25</td>\n",
       "      <td>3.50</td>\n",
       "      <td>20.150</td>\n",
       "      <td>0.50</td>\n",
       "      <td>0.25</td>\n",
       "      <td>0.25</td>\n",
       "      <td>49.00</td>\n",
       "      <td>1.175</td>\n",
       "      <td>1.925</td>\n",
       "      <td>0</td>\n",
       "    </tr>\n",
       "    <tr>\n",
       "      <th>71</th>\n",
       "      <td>2020-01-11</td>\n",
       "      <td>Aston Villa</td>\n",
       "      <td>Southampton</td>\n",
       "      <td>1</td>\n",
       "      <td>12</td>\n",
       "      <td>5</td>\n",
       "      <td>2.25</td>\n",
       "      <td>3.50</td>\n",
       "      <td>1.50</td>\n",
       "      <td>17.75</td>\n",
       "      <td>6.75</td>\n",
       "      <td>15.125</td>\n",
       "      <td>0.25</td>\n",
       "      <td>0.25</td>\n",
       "      <td>0.25</td>\n",
       "      <td>50.50</td>\n",
       "      <td>2.100</td>\n",
       "      <td>1.225</td>\n",
       "      <td>0</td>\n",
       "    </tr>\n",
       "    <tr>\n",
       "      <th>567</th>\n",
       "      <td>2020-02-11</td>\n",
       "      <td>Leeds United</td>\n",
       "      <td>Leicester City</td>\n",
       "      <td>1</td>\n",
       "      <td>20</td>\n",
       "      <td>1</td>\n",
       "      <td>0.25</td>\n",
       "      <td>1.00</td>\n",
       "      <td>3.00</td>\n",
       "      <td>10.25</td>\n",
       "      <td>4.50</td>\n",
       "      <td>15.600</td>\n",
       "      <td>0.25</td>\n",
       "      <td>0.00</td>\n",
       "      <td>0.00</td>\n",
       "      <td>59.25</td>\n",
       "      <td>1.200</td>\n",
       "      <td>2.400</td>\n",
       "      <td>0</td>\n",
       "    </tr>\n",
       "  </tbody>\n",
       "</table>\n",
       "</div>"
      ],
      "text/plain": [
       "           date            team        opponent  venue_code  hour  day_code  \\\n",
       "1104 2020-01-11       Tottenham        Brighton           1    19         5   \n",
       "889  2020-01-11   Newcastle Utd         Everton           1    14         5   \n",
       "817  2020-01-11  Manchester Utd         Arsenal           1    16         5   \n",
       "71   2020-01-11     Aston Villa     Southampton           1    12         5   \n",
       "567  2020-02-11    Leeds United  Leicester City           1    20         1   \n",
       "\n",
       "      points_rolling  gf_rolling  ga_rolling  sh_rolling  sot_rolling  \\\n",
       "1104            3.00        2.75        0.50       13.50         4.25   \n",
       "889             1.50        1.25        1.75        7.00         2.25   \n",
       "817             1.50        1.75        2.25       10.25         3.50   \n",
       "71              2.25        3.50        1.50       17.75         6.75   \n",
       "567             0.25        1.00        3.00       10.25         4.50   \n",
       "\n",
       "      dist_rolling  fk_rolling  pk_rolling  pkatt_rolling  poss_rolling  \\\n",
       "1104        17.425        1.00        0.50           0.50         49.25   \n",
       "889         17.400        0.25        0.50           0.50         42.75   \n",
       "817         20.150        0.50        0.25           0.25         49.00   \n",
       "71          15.125        0.25        0.25           0.25         50.50   \n",
       "567         15.600        0.25        0.00           0.00         59.25   \n",
       "\n",
       "      xg_rolling  xga_rolling  points  \n",
       "1104       1.925        0.725       3  \n",
       "889        1.375        1.075       3  \n",
       "817        1.175        1.925       0  \n",
       "71         2.100        1.225       0  \n",
       "567        1.200        2.400       0  "
      ]
     },
     "execution_count": 143,
     "metadata": {},
     "output_type": "execute_result"
    }
   ],
   "source": [
    "home_matches.head()"
   ]
  },
  {
   "cell_type": "code",
   "execution_count": 144,
   "metadata": {},
   "outputs": [
    {
     "data": {
      "text/html": [
       "<div>\n",
       "<style scoped>\n",
       "    .dataframe tbody tr th:only-of-type {\n",
       "        vertical-align: middle;\n",
       "    }\n",
       "\n",
       "    .dataframe tbody tr th {\n",
       "        vertical-align: top;\n",
       "    }\n",
       "\n",
       "    .dataframe thead th {\n",
       "        text-align: right;\n",
       "    }\n",
       "</style>\n",
       "<table border=\"1\" class=\"dataframe\">\n",
       "  <thead>\n",
       "    <tr style=\"text-align: right;\">\n",
       "      <th></th>\n",
       "      <th>date</th>\n",
       "      <th>team</th>\n",
       "      <th>opponent</th>\n",
       "      <th>venue_code</th>\n",
       "      <th>hour</th>\n",
       "      <th>day_code</th>\n",
       "      <th>points_rolling</th>\n",
       "      <th>gf_rolling</th>\n",
       "      <th>ga_rolling</th>\n",
       "      <th>sh_rolling</th>\n",
       "      <th>sot_rolling</th>\n",
       "      <th>dist_rolling</th>\n",
       "      <th>fk_rolling</th>\n",
       "      <th>pk_rolling</th>\n",
       "      <th>pkatt_rolling</th>\n",
       "      <th>poss_rolling</th>\n",
       "      <th>xg_rolling</th>\n",
       "      <th>xga_rolling</th>\n",
       "      <th>points</th>\n",
       "    </tr>\n",
       "  </thead>\n",
       "  <tbody>\n",
       "    <tr>\n",
       "      <th>0</th>\n",
       "      <td>2020-01-11</td>\n",
       "      <td>Arsenal</td>\n",
       "      <td>Manchester Utd</td>\n",
       "      <td>0</td>\n",
       "      <td>16</td>\n",
       "      <td>5</td>\n",
       "      <td>1.50</td>\n",
       "      <td>0.75</td>\n",
       "      <td>1.5</td>\n",
       "      <td>9.25</td>\n",
       "      <td>2.50</td>\n",
       "      <td>17.525</td>\n",
       "      <td>0.25</td>\n",
       "      <td>0.25</td>\n",
       "      <td>0.25</td>\n",
       "      <td>59.00</td>\n",
       "      <td>0.950</td>\n",
       "      <td>0.675</td>\n",
       "      <td>3</td>\n",
       "    </tr>\n",
       "    <tr>\n",
       "      <th>175</th>\n",
       "      <td>2020-01-11</td>\n",
       "      <td>Brighton</td>\n",
       "      <td>Tottenham</td>\n",
       "      <td>0</td>\n",
       "      <td>19</td>\n",
       "      <td>5</td>\n",
       "      <td>0.25</td>\n",
       "      <td>1.00</td>\n",
       "      <td>2.0</td>\n",
       "      <td>11.75</td>\n",
       "      <td>2.75</td>\n",
       "      <td>16.175</td>\n",
       "      <td>0.50</td>\n",
       "      <td>0.25</td>\n",
       "      <td>0.25</td>\n",
       "      <td>55.25</td>\n",
       "      <td>1.250</td>\n",
       "      <td>1.250</td>\n",
       "      <td>0</td>\n",
       "    </tr>\n",
       "    <tr>\n",
       "      <th>459</th>\n",
       "      <td>2020-01-11</td>\n",
       "      <td>Everton</td>\n",
       "      <td>Newcastle Utd</td>\n",
       "      <td>0</td>\n",
       "      <td>14</td>\n",
       "      <td>5</td>\n",
       "      <td>1.00</td>\n",
       "      <td>1.75</td>\n",
       "      <td>2.0</td>\n",
       "      <td>11.50</td>\n",
       "      <td>4.25</td>\n",
       "      <td>16.775</td>\n",
       "      <td>0.00</td>\n",
       "      <td>0.00</td>\n",
       "      <td>0.00</td>\n",
       "      <td>55.00</td>\n",
       "      <td>1.325</td>\n",
       "      <td>1.525</td>\n",
       "      <td>0</td>\n",
       "    </tr>\n",
       "    <tr>\n",
       "      <th>1032</th>\n",
       "      <td>2020-01-11</td>\n",
       "      <td>Southampton</td>\n",
       "      <td>Aston Villa</td>\n",
       "      <td>0</td>\n",
       "      <td>12</td>\n",
       "      <td>5</td>\n",
       "      <td>3.00</td>\n",
       "      <td>2.50</td>\n",
       "      <td>1.0</td>\n",
       "      <td>11.50</td>\n",
       "      <td>5.00</td>\n",
       "      <td>17.825</td>\n",
       "      <td>0.50</td>\n",
       "      <td>0.25</td>\n",
       "      <td>0.25</td>\n",
       "      <td>54.50</td>\n",
       "      <td>0.975</td>\n",
       "      <td>1.125</td>\n",
       "      <td>3</td>\n",
       "    </tr>\n",
       "    <tr>\n",
       "      <th>1208</th>\n",
       "      <td>2020-02-11</td>\n",
       "      <td>West Brom</td>\n",
       "      <td>Fulham</td>\n",
       "      <td>0</td>\n",
       "      <td>17</td>\n",
       "      <td>1</td>\n",
       "      <td>0.00</td>\n",
       "      <td>0.25</td>\n",
       "      <td>2.5</td>\n",
       "      <td>9.00</td>\n",
       "      <td>2.50</td>\n",
       "      <td>18.675</td>\n",
       "      <td>0.25</td>\n",
       "      <td>0.00</td>\n",
       "      <td>0.00</td>\n",
       "      <td>45.50</td>\n",
       "      <td>0.550</td>\n",
       "      <td>1.525</td>\n",
       "      <td>0</td>\n",
       "    </tr>\n",
       "  </tbody>\n",
       "</table>\n",
       "</div>"
      ],
      "text/plain": [
       "           date         team        opponent  venue_code  hour  day_code  \\\n",
       "0    2020-01-11      Arsenal  Manchester Utd           0    16         5   \n",
       "175  2020-01-11     Brighton       Tottenham           0    19         5   \n",
       "459  2020-01-11      Everton   Newcastle Utd           0    14         5   \n",
       "1032 2020-01-11  Southampton     Aston Villa           0    12         5   \n",
       "1208 2020-02-11    West Brom          Fulham           0    17         1   \n",
       "\n",
       "      points_rolling  gf_rolling  ga_rolling  sh_rolling  sot_rolling  \\\n",
       "0               1.50        0.75         1.5        9.25         2.50   \n",
       "175             0.25        1.00         2.0       11.75         2.75   \n",
       "459             1.00        1.75         2.0       11.50         4.25   \n",
       "1032            3.00        2.50         1.0       11.50         5.00   \n",
       "1208            0.00        0.25         2.5        9.00         2.50   \n",
       "\n",
       "      dist_rolling  fk_rolling  pk_rolling  pkatt_rolling  poss_rolling  \\\n",
       "0           17.525        0.25        0.25           0.25         59.00   \n",
       "175         16.175        0.50        0.25           0.25         55.25   \n",
       "459         16.775        0.00        0.00           0.00         55.00   \n",
       "1032        17.825        0.50        0.25           0.25         54.50   \n",
       "1208        18.675        0.25        0.00           0.00         45.50   \n",
       "\n",
       "      xg_rolling  xga_rolling  points  \n",
       "0          0.950        0.675       3  \n",
       "175        1.250        1.250       0  \n",
       "459        1.325        1.525       0  \n",
       "1032       0.975        1.125       3  \n",
       "1208       0.550        1.525       0  "
      ]
     },
     "execution_count": 144,
     "metadata": {},
     "output_type": "execute_result"
    }
   ],
   "source": [
    "away_matches.head()"
   ]
  },
  {
   "cell_type": "code",
   "execution_count": 145,
   "metadata": {},
   "outputs": [],
   "source": [
    "merge_matches = pd.merge(home_matches, away_matches, \n",
    "                         left_on=[\"date\", \"team\", \"opponent\"], \n",
    "                         right_on=[\"date\", \"opponent\", \"team\"], \n",
    "                         suffixes=('_home', '_away')).sort_values(\"date\")"
   ]
  },
  {
   "cell_type": "code",
   "execution_count": 146,
   "metadata": {},
   "outputs": [],
   "source": [
    "merge_matches.drop([\"opponent_home\", \"opponent_away\", \"venue_code_home\", \"venue_code_away\", \"points_away\", \"hour_away\", \"day_code_away\"], axis=1, inplace=True)"
   ]
  },
  {
   "cell_type": "code",
   "execution_count": 147,
   "metadata": {},
   "outputs": [
    {
     "data": {
      "text/plain": [
       "Index(['date', 'team_home', 'hour_home', 'day_code_home',\n",
       "       'points_rolling_home', 'gf_rolling_home', 'ga_rolling_home',\n",
       "       'sh_rolling_home', 'sot_rolling_home', 'dist_rolling_home',\n",
       "       'fk_rolling_home', 'pk_rolling_home', 'pkatt_rolling_home',\n",
       "       'poss_rolling_home', 'xg_rolling_home', 'xga_rolling_home',\n",
       "       'points_home', 'team_away', 'points_rolling_away', 'gf_rolling_away',\n",
       "       'ga_rolling_away', 'sh_rolling_away', 'sot_rolling_away',\n",
       "       'dist_rolling_away', 'fk_rolling_away', 'pk_rolling_away',\n",
       "       'pkatt_rolling_away', 'poss_rolling_away', 'xg_rolling_away',\n",
       "       'xga_rolling_away'],\n",
       "      dtype='object')"
      ]
     },
     "execution_count": 147,
     "metadata": {},
     "output_type": "execute_result"
    }
   ],
   "source": [
    "merge_matches.columns"
   ]
  },
  {
   "cell_type": "code",
   "execution_count": 148,
   "metadata": {},
   "outputs": [],
   "source": [
    "merge_matches.rename({\"hour_home\": \"hour\", \"day_code_home\": \"day_code\"}, axis=1, inplace=True)"
   ]
  },
  {
   "cell_type": "code",
   "execution_count": 149,
   "metadata": {},
   "outputs": [
    {
     "data": {
      "text/plain": [
       "Index(['date', 'team_home', 'hour', 'day_code', 'points_rolling_home',\n",
       "       'gf_rolling_home', 'ga_rolling_home', 'sh_rolling_home',\n",
       "       'sot_rolling_home', 'dist_rolling_home', 'fk_rolling_home',\n",
       "       'pk_rolling_home', 'pkatt_rolling_home', 'poss_rolling_home',\n",
       "       'xg_rolling_home', 'xga_rolling_home', 'points_home', 'team_away',\n",
       "       'points_rolling_away', 'gf_rolling_away', 'ga_rolling_away',\n",
       "       'sh_rolling_away', 'sot_rolling_away', 'dist_rolling_away',\n",
       "       'fk_rolling_away', 'pk_rolling_away', 'pkatt_rolling_away',\n",
       "       'poss_rolling_away', 'xg_rolling_away', 'xga_rolling_away'],\n",
       "      dtype='object')"
      ]
     },
     "execution_count": 149,
     "metadata": {},
     "output_type": "execute_result"
    }
   ],
   "source": [
    "merge_matches.columns"
   ]
  },
  {
   "cell_type": "code",
   "execution_count": 151,
   "metadata": {},
   "outputs": [],
   "source": [
    "# create columns with average stat differences between the two teams\n",
    "\n",
    "merge_matches['points_rolling_diff'] = (merge_matches['points_rolling_home']-merge_matches['points_rolling_away'])\n",
    "merge_matches['gf_rolling_diff'] = (merge_matches['gf_rolling_home']-merge_matches['gf_rolling_away'])\n",
    "merge_matches['ga_rolling_diff'] = (merge_matches['ga_rolling_home']-merge_matches['ga_rolling_away'])\n",
    "merge_matches['sh_rolling_diff'] = (merge_matches['sh_rolling_home']-merge_matches['sh_rolling_away'])\n",
    "merge_matches['sot_rolling_diff'] = (merge_matches['sot_rolling_home']-merge_matches['sot_rolling_away'])\n",
    "merge_matches['poss_rolling_diff'] = (merge_matches['poss_rolling_home']-merge_matches['poss_rolling_away'])\n",
    "merge_matches['xg_rolling_diff'] = (merge_matches['xg_rolling_home']-merge_matches['xg_rolling_away'])\n",
    "merge_matches['xga_rolling_diff'] = (merge_matches['xga_rolling_home']-merge_matches['xga_rolling_away'])"
   ]
  },
  {
   "cell_type": "code",
   "execution_count": 152,
   "metadata": {},
   "outputs": [],
   "source": [
    "final_df = merge_matches[['points_rolling_diff', \n",
    "                          'gf_rolling_diff', \n",
    "                          'ga_rolling_diff', \n",
    "                          'sh_rolling_diff', \n",
    "                          'sot_rolling_diff', \n",
    "                          'poss_rolling_diff', \n",
    "                          'xg_rolling_diff', \n",
    "                          'xga_rolling_diff', \n",
    "                          'points_home']]"
   ]
  },
  {
   "cell_type": "code",
   "execution_count": 155,
   "metadata": {},
   "outputs": [
    {
     "data": {
      "text/plain": [
       "points_rolling_diff    0.278675\n",
       "gf_rolling_diff        0.273982\n",
       "ga_rolling_diff       -0.188554\n",
       "sh_rolling_diff        0.216702\n",
       "sot_rolling_diff       0.269155\n",
       "poss_rolling_diff      0.257845\n",
       "xg_rolling_diff        0.279435\n",
       "xga_rolling_diff      -0.195818\n",
       "points_home            1.000000\n",
       "Name: points_home, dtype: float64"
      ]
     },
     "execution_count": 155,
     "metadata": {},
     "output_type": "execute_result"
    }
   ],
   "source": [
    "final_df.corr()['points_home'][:]"
   ]
  },
  {
   "cell_type": "markdown",
   "metadata": {},
   "source": [
    "## Machine Learning Model"
   ]
  },
  {
   "cell_type": "code",
   "execution_count": null,
   "metadata": {},
   "outputs": [],
   "source": [
    "train = grp_matches[grp_matches[\"date\"] < \"2022-01-01\"]"
   ]
  },
  {
   "cell_type": "code",
   "execution_count": null,
   "metadata": {},
   "outputs": [],
   "source": [
    "test = grp_matches[grp_matches[\"date\"] > \"2022-01-01\"]"
   ]
  },
  {
   "cell_type": "code",
   "execution_count": null,
   "metadata": {},
   "outputs": [],
   "source": [
    "train = train[['venue_code', 'opp_code', 'team_code', 'hour', 'day_code', 'points_rolling', 'gf_rolling', 'ga_rolling', 'sh_rolling', 'sot_rolling', 'dist_rolling', 'fk_rolling', 'pk_rolling', 'pkatt_rolling', 'W', 'D', 'L']].dropna()"
   ]
  },
  {
   "cell_type": "code",
   "execution_count": null,
   "metadata": {},
   "outputs": [],
   "source": [
    "test = test[['venue_code', 'opp_code', 'team_code', 'hour', 'day_code', 'points_rolling', 'gf_rolling', 'ga_rolling', 'sh_rolling', 'sot_rolling', 'dist_rolling', 'fk_rolling', 'pk_rolling', 'pkatt_rolling', 'W', 'D', 'L']].dropna()"
   ]
  },
  {
   "cell_type": "code",
   "execution_count": null,
   "metadata": {},
   "outputs": [],
   "source": [
    "train[train[\"team_code\"]==0].head()"
   ]
  },
  {
   "cell_type": "code",
   "execution_count": null,
   "metadata": {},
   "outputs": [],
   "source": [
    "X_train = train.iloc[:,:-3]\n",
    "y_train = train.iloc[:,-3:]"
   ]
  },
  {
   "cell_type": "code",
   "execution_count": null,
   "metadata": {},
   "outputs": [],
   "source": [
    "y_train"
   ]
  },
  {
   "cell_type": "code",
   "execution_count": null,
   "metadata": {},
   "outputs": [],
   "source": [
    "X_test = test.iloc[:,:-3]\n",
    "y_test = test.iloc[:,-3:]"
   ]
  },
  {
   "cell_type": "code",
   "execution_count": null,
   "metadata": {},
   "outputs": [],
   "source": [
    "from sklearn.ensemble import RandomForestClassifier\n",
    "\n",
    "model = RandomForestClassifier(random_state=42)\n",
    "\n",
    "model.fit(X_train, y_train)\n",
    "\n",
    "y_pred = model.predict(X_test)"
   ]
  },
  {
   "cell_type": "code",
   "execution_count": null,
   "metadata": {},
   "outputs": [],
   "source": [
    "y_pred"
   ]
  },
  {
   "cell_type": "code",
   "execution_count": null,
   "metadata": {},
   "outputs": [],
   "source": [
    "from scipy import interp\n",
    "import matplotlib.pyplot as plt\n",
    "from sklearn.metrics import roc_curve, auc\n",
    "\n",
    "n_classes = 3\n",
    "\n",
    "fpr = dict()\n",
    "tpr = dict()\n",
    "roc_auc = dict()\n",
    "for i in range(n_classes):\n",
    "    fpr[i], tpr[i], _ = roc_curve(y_test[:,i], y_pred[:,i], )\n",
    "    print(fpr[i], tpr[i], _)\n",
    "    roc_auc[i] = auc(fpr[i], tpr[i])"
   ]
  },
  {
   "cell_type": "code",
   "execution_count": null,
   "metadata": {},
   "outputs": [],
   "source": [
    "from hyperopt import fmin, hp, tpe, Trials, space_eval, STATUS_OK"
   ]
  },
  {
   "cell_type": "markdown",
   "metadata": {},
   "source": [
    "### RandomForest Classifier"
   ]
  },
  {
   "cell_type": "code",
   "execution_count": null,
   "metadata": {},
   "outputs": [],
   "source": [
    "from sklearn.ensemble import RandomForestClassifier"
   ]
  },
  {
   "cell_type": "code",
   "execution_count": null,
   "metadata": {},
   "outputs": [],
   "source": [
    "from sklearn.metrics import accuracy_score, f1_score, roc_auc_score"
   ]
  },
  {
   "cell_type": "code",
   "execution_count": null,
   "metadata": {},
   "outputs": [],
   "source": [
    "def objective_rf(space):\n",
    "    model = RandomForestClassifier(\n",
    "        **space,\n",
    "        random_state=42\n",
    "    )\n",
    "    \n",
    "    model.fit(X_train, y_train)\n",
    "    \n",
    "    y_pred = model.predict(X_test)\n",
    "    score = accuracy_score(y_test, y_pred)\n",
    "    \n",
    "    loss = 1 - score\n",
    "    \n",
    "    return {'loss': loss, 'status': STATUS_OK, 'model': model}"
   ]
  },
  {
   "cell_type": "code",
   "execution_count": null,
   "metadata": {},
   "outputs": [],
   "source": [
    "space = {\n",
    "    'n_estimators':hp.randint('n_estimators',200,1000),\n",
    "    'max_depth': hp.randint('max_depth',10,200),\n",
    "    'min_samples_split':hp.uniform('min_samples_split',0,1),\n",
    "    'min_samples_leaf':hp.randint('min_samples_leaf',1,10),\n",
    "    'criterion':hp.choice('criterion', ['gini','entropy']),\n",
    "    'max_features':hp.choice('max_features', ['sqrt','log2'])\n",
    "}"
   ]
  },
  {
   "cell_type": "code",
   "execution_count": null,
   "metadata": {},
   "outputs": [],
   "source": [
    "rf_trials = Trials()"
   ]
  },
  {
   "cell_type": "code",
   "execution_count": null,
   "metadata": {
    "scrolled": true
   },
   "outputs": [],
   "source": [
    "best_params_rf = fmin(\n",
    "    fn=objective_rf,\n",
    "    space=space,\n",
    "    algo=tpe.suggest,\n",
    "    trials=rf_trials,\n",
    "    max_evals=50)"
   ]
  },
  {
   "cell_type": "code",
   "execution_count": null,
   "metadata": {},
   "outputs": [],
   "source": [
    "pd.DataFrame(trials).iloc[0]['result']"
   ]
  },
  {
   "cell_type": "code",
   "execution_count": null,
   "metadata": {},
   "outputs": [],
   "source": [
    "import numpy as np\n",
    "\n",
    "def getBestModelfromTrials(trials):\n",
    "    valid_trial_list = [trial for trial in trials if STATUS_OK == trial['result']['status']]\n",
    "    losses = [float(trial['result']['loss']) for trial in valid_trial_list]\n",
    "    index_having_minumum_loss = np.argmin(losses)\n",
    "    best_trial_obj = valid_trial_list[index_having_minumum_loss]\n",
    "    return best_trial_obj['result']['model']"
   ]
  },
  {
   "cell_type": "code",
   "execution_count": null,
   "metadata": {},
   "outputs": [],
   "source": [
    "rf_model = getBestModelfromTrials(trials)"
   ]
  },
  {
   "cell_type": "code",
   "execution_count": null,
   "metadata": {},
   "outputs": [],
   "source": [
    "rf_model.predict"
   ]
  },
  {
   "cell_type": "markdown",
   "metadata": {},
   "source": [
    "### XGBoost Classifier"
   ]
  },
  {
   "cell_type": "code",
   "execution_count": null,
   "metadata": {},
   "outputs": [],
   "source": [
    "import xgboost as xgb"
   ]
  },
  {
   "cell_type": "code",
   "execution_count": null,
   "metadata": {},
   "outputs": [],
   "source": [
    "def objective_xgb(space):\n",
    "    \n",
    "    model = xgb.XGBClassifier(objective=\"multi:softmax\", \n",
    "                              max_depth=int(space['max_depth']),\n",
    "                              min_child_weight=int(space['min_child_weight']),\n",
    "                              n_estimators=int(space['n_estimators']),\n",
    "                              eval_metric=\"auc\",\n",
    "                              early_stopping_rounds=10,\n",
    "                              random_state=42\n",
    "                         )\n",
    "    \n",
    "    evaluation=[(X_test, y_test)]\n",
    "    \n",
    "    model.fit(X_train, y_train, eval_set=evaluation, verbose=False)\n",
    "    \n",
    "    y_pred = model.predict(X_test)\n",
    "    score = accuracy_score(y_test, y_pred)\n",
    "    \n",
    "    loss = 1 - score\n",
    "    \n",
    "    return {'loss': loss, 'status': STATUS_OK, 'model': model}"
   ]
  },
  {
   "cell_type": "code",
   "execution_count": null,
   "metadata": {},
   "outputs": [],
   "source": [
    "space={'max_depth': hp.quniform(\"max_depth\", 3, 18, 1),\n",
    "       'min_child_weight' : hp.quniform('min_child_weight', 0, 1000, 1),\n",
    "       'n_estimators': hp.quniform(\"n_estimators\", 1, 1000, 1)\n",
    "      }"
   ]
  },
  {
   "cell_type": "code",
   "execution_count": null,
   "metadata": {},
   "outputs": [],
   "source": [
    "xgb_trials = Trials()"
   ]
  },
  {
   "cell_type": "code",
   "execution_count": null,
   "metadata": {},
   "outputs": [],
   "source": [
    "best_params_xgb = fmin(\n",
    "    fn=objective_xgb,\n",
    "    space=space,\n",
    "    algo=tpe.suggest,\n",
    "    trials=xgb_trials,\n",
    "    max_evals=100)"
   ]
  },
  {
   "cell_type": "code",
   "execution_count": null,
   "metadata": {},
   "outputs": [],
   "source": [
    "print(best_params_xgb)"
   ]
  },
  {
   "cell_type": "code",
   "execution_count": null,
   "metadata": {},
   "outputs": [],
   "source": [
    "xgb_model = getBestModelfromTrials(xgb_trials)"
   ]
  },
  {
   "cell_type": "code",
   "execution_count": null,
   "metadata": {},
   "outputs": [],
   "source": [
    "pred = xgb_model.predict(X_test)"
   ]
  },
  {
   "cell_type": "code",
   "execution_count": null,
   "metadata": {},
   "outputs": [],
   "source": []
  }
 ],
 "metadata": {
  "kernelspec": {
   "display_name": "Python 3",
   "language": "python",
   "name": "python3"
  },
  "language_info": {
   "codemirror_mode": {
    "name": "ipython",
    "version": 3
   },
   "file_extension": ".py",
   "mimetype": "text/x-python",
   "name": "python",
   "nbconvert_exporter": "python",
   "pygments_lexer": "ipython3",
   "version": "3.8.3"
  }
 },
 "nbformat": 4,
 "nbformat_minor": 4
}
