{
 "cells": [
  {
   "cell_type": "markdown",
   "metadata": {},
   "source": [
    "### Imports"
   ]
  },
  {
   "cell_type": "code",
   "execution_count": 1,
   "metadata": {},
   "outputs": [],
   "source": [
    "import pandas as pd\n",
    "import datetime as dt\n",
    "\n",
    "matches = pd.read_csv(\"matches.csv\", index_col=0)"
   ]
  },
  {
   "cell_type": "markdown",
   "metadata": {},
   "source": [
    "### Data Cleaning and Feature Engineering"
   ]
  },
  {
   "cell_type": "code",
   "execution_count": 2,
   "metadata": {},
   "outputs": [
    {
     "data": {
      "text/html": [
       "<div>\n",
       "<style scoped>\n",
       "    .dataframe tbody tr th:only-of-type {\n",
       "        vertical-align: middle;\n",
       "    }\n",
       "\n",
       "    .dataframe tbody tr th {\n",
       "        vertical-align: top;\n",
       "    }\n",
       "\n",
       "    .dataframe thead th {\n",
       "        text-align: right;\n",
       "    }\n",
       "</style>\n",
       "<table border=\"1\" class=\"dataframe\">\n",
       "  <thead>\n",
       "    <tr style=\"text-align: right;\">\n",
       "      <th></th>\n",
       "      <th>date</th>\n",
       "      <th>time</th>\n",
       "      <th>comp</th>\n",
       "      <th>round</th>\n",
       "      <th>day</th>\n",
       "      <th>venue</th>\n",
       "      <th>result</th>\n",
       "      <th>gf</th>\n",
       "      <th>ga</th>\n",
       "      <th>opponent</th>\n",
       "      <th>...</th>\n",
       "      <th>match report</th>\n",
       "      <th>notes</th>\n",
       "      <th>sh</th>\n",
       "      <th>sot</th>\n",
       "      <th>dist</th>\n",
       "      <th>fk</th>\n",
       "      <th>pk</th>\n",
       "      <th>pkatt</th>\n",
       "      <th>season</th>\n",
       "      <th>team</th>\n",
       "    </tr>\n",
       "  </thead>\n",
       "  <tbody>\n",
       "    <tr>\n",
       "      <th>1</th>\n",
       "      <td>15/08/2021</td>\n",
       "      <td>16:30</td>\n",
       "      <td>Premier League</td>\n",
       "      <td>Matchweek 1</td>\n",
       "      <td>Sun</td>\n",
       "      <td>Away</td>\n",
       "      <td>L</td>\n",
       "      <td>0</td>\n",
       "      <td>1</td>\n",
       "      <td>Tottenham</td>\n",
       "      <td>...</td>\n",
       "      <td>Match Report</td>\n",
       "      <td>NaN</td>\n",
       "      <td>18</td>\n",
       "      <td>4</td>\n",
       "      <td>16.9</td>\n",
       "      <td>1</td>\n",
       "      <td>0</td>\n",
       "      <td>0</td>\n",
       "      <td>2022</td>\n",
       "      <td>Manchester City</td>\n",
       "    </tr>\n",
       "    <tr>\n",
       "      <th>2</th>\n",
       "      <td>21/08/2021</td>\n",
       "      <td>15:00</td>\n",
       "      <td>Premier League</td>\n",
       "      <td>Matchweek 2</td>\n",
       "      <td>Sat</td>\n",
       "      <td>Home</td>\n",
       "      <td>W</td>\n",
       "      <td>5</td>\n",
       "      <td>0</td>\n",
       "      <td>Norwich City</td>\n",
       "      <td>...</td>\n",
       "      <td>Match Report</td>\n",
       "      <td>NaN</td>\n",
       "      <td>16</td>\n",
       "      <td>4</td>\n",
       "      <td>17.3</td>\n",
       "      <td>1</td>\n",
       "      <td>0</td>\n",
       "      <td>0</td>\n",
       "      <td>2022</td>\n",
       "      <td>Manchester City</td>\n",
       "    </tr>\n",
       "    <tr>\n",
       "      <th>3</th>\n",
       "      <td>28/08/2021</td>\n",
       "      <td>12:30</td>\n",
       "      <td>Premier League</td>\n",
       "      <td>Matchweek 3</td>\n",
       "      <td>Sat</td>\n",
       "      <td>Home</td>\n",
       "      <td>W</td>\n",
       "      <td>5</td>\n",
       "      <td>0</td>\n",
       "      <td>Arsenal</td>\n",
       "      <td>...</td>\n",
       "      <td>Match Report</td>\n",
       "      <td>NaN</td>\n",
       "      <td>25</td>\n",
       "      <td>10</td>\n",
       "      <td>14.3</td>\n",
       "      <td>0</td>\n",
       "      <td>0</td>\n",
       "      <td>0</td>\n",
       "      <td>2022</td>\n",
       "      <td>Manchester City</td>\n",
       "    </tr>\n",
       "    <tr>\n",
       "      <th>4</th>\n",
       "      <td>11/09/2021</td>\n",
       "      <td>15:00</td>\n",
       "      <td>Premier League</td>\n",
       "      <td>Matchweek 4</td>\n",
       "      <td>Sat</td>\n",
       "      <td>Away</td>\n",
       "      <td>W</td>\n",
       "      <td>1</td>\n",
       "      <td>0</td>\n",
       "      <td>Leicester City</td>\n",
       "      <td>...</td>\n",
       "      <td>Match Report</td>\n",
       "      <td>NaN</td>\n",
       "      <td>25</td>\n",
       "      <td>8</td>\n",
       "      <td>14.0</td>\n",
       "      <td>0</td>\n",
       "      <td>0</td>\n",
       "      <td>0</td>\n",
       "      <td>2022</td>\n",
       "      <td>Manchester City</td>\n",
       "    </tr>\n",
       "    <tr>\n",
       "      <th>6</th>\n",
       "      <td>18/09/2021</td>\n",
       "      <td>15:00</td>\n",
       "      <td>Premier League</td>\n",
       "      <td>Matchweek 5</td>\n",
       "      <td>Sat</td>\n",
       "      <td>Home</td>\n",
       "      <td>D</td>\n",
       "      <td>0</td>\n",
       "      <td>0</td>\n",
       "      <td>Southampton</td>\n",
       "      <td>...</td>\n",
       "      <td>Match Report</td>\n",
       "      <td>NaN</td>\n",
       "      <td>16</td>\n",
       "      <td>1</td>\n",
       "      <td>15.7</td>\n",
       "      <td>1</td>\n",
       "      <td>0</td>\n",
       "      <td>0</td>\n",
       "      <td>2022</td>\n",
       "      <td>Manchester City</td>\n",
       "    </tr>\n",
       "  </tbody>\n",
       "</table>\n",
       "<p>5 rows × 27 columns</p>\n",
       "</div>"
      ],
      "text/plain": [
       "         date   time            comp        round  day venue result  gf  ga  \\\n",
       "1  15/08/2021  16:30  Premier League  Matchweek 1  Sun  Away      L   0   1   \n",
       "2  21/08/2021  15:00  Premier League  Matchweek 2  Sat  Home      W   5   0   \n",
       "3  28/08/2021  12:30  Premier League  Matchweek 3  Sat  Home      W   5   0   \n",
       "4  11/09/2021  15:00  Premier League  Matchweek 4  Sat  Away      W   1   0   \n",
       "6  18/09/2021  15:00  Premier League  Matchweek 5  Sat  Home      D   0   0   \n",
       "\n",
       "         opponent  ...  match report  notes  sh  sot  dist fk pk pkatt  \\\n",
       "1       Tottenham  ...  Match Report    NaN  18    4  16.9  1  0     0   \n",
       "2    Norwich City  ...  Match Report    NaN  16    4  17.3  1  0     0   \n",
       "3         Arsenal  ...  Match Report    NaN  25   10  14.3  0  0     0   \n",
       "4  Leicester City  ...  Match Report    NaN  25    8  14.0  0  0     0   \n",
       "6     Southampton  ...  Match Report    NaN  16    1  15.7  1  0     0   \n",
       "\n",
       "   season             team  \n",
       "1    2022  Manchester City  \n",
       "2    2022  Manchester City  \n",
       "3    2022  Manchester City  \n",
       "4    2022  Manchester City  \n",
       "6    2022  Manchester City  \n",
       "\n",
       "[5 rows x 27 columns]"
      ]
     },
     "execution_count": 2,
     "metadata": {},
     "output_type": "execute_result"
    }
   ],
   "source": [
    "matches.head()"
   ]
  },
  {
   "cell_type": "code",
   "execution_count": 3,
   "metadata": {},
   "outputs": [
    {
     "data": {
      "text/plain": [
       "Index(['date', 'time', 'comp', 'round', 'day', 'venue', 'result', 'gf', 'ga',\n",
       "       'opponent', 'xg', 'xga', 'poss', 'attendance', 'captain', 'formation',\n",
       "       'referee', 'match report', 'notes', 'sh', 'sot', 'dist', 'fk', 'pk',\n",
       "       'pkatt', 'season', 'team'],\n",
       "      dtype='object')"
      ]
     },
     "execution_count": 3,
     "metadata": {},
     "output_type": "execute_result"
    }
   ],
   "source": [
    "matches.columns"
   ]
  },
  {
   "cell_type": "code",
   "execution_count": 4,
   "metadata": {},
   "outputs": [],
   "source": [
    "matches.drop([\"round\", \n",
    "              \"comp\", \n",
    "              \"season\", \n",
    "              \"attendance\", \n",
    "              \"notes\", \n",
    "              \"captain\", \n",
    "              \"formation\", \n",
    "              \"referee\", \n",
    "              \"match report\", \n",
    "              \"notes\"], \n",
    "             axis=1, inplace=True)"
   ]
  },
  {
   "cell_type": "code",
   "execution_count": 5,
   "metadata": {},
   "outputs": [
    {
     "data": {
      "text/plain": [
       "Brighton and Hove Albion    72\n",
       "West Ham United             72\n",
       "Newcastle United            72\n",
       "Manchester United           72\n",
       "Southampton                 72\n",
       "Wolverhampton Wanderers     71\n",
       "Manchester City             71\n",
       "Leeds United                71\n",
       "Arsenal                     71\n",
       "Burnley                     71\n",
       "Tottenham Hotspur           71\n",
       "Crystal Palace              71\n",
       "Leicester City              70\n",
       "Chelsea                     70\n",
       "Everton                     70\n",
       "Aston Villa                 70\n",
       "Sheffield United            38\n",
       "Liverpool                   38\n",
       "Fulham                      38\n",
       "West Bromwich Albion        38\n",
       "Brentford                   34\n",
       "Norwich City                33\n",
       "Watford                     33\n",
       "Name: team, dtype: int64"
      ]
     },
     "execution_count": 5,
     "metadata": {},
     "output_type": "execute_result"
    }
   ],
   "source": [
    "matches[\"team\"].value_counts()"
   ]
  },
  {
   "cell_type": "code",
   "execution_count": 6,
   "metadata": {},
   "outputs": [],
   "source": [
    "#convert categoric variables to numeric for machine learning model"
   ]
  },
  {
   "cell_type": "code",
   "execution_count": 7,
   "metadata": {},
   "outputs": [],
   "source": [
    "matches[\"date\"] = pd.to_datetime(matches[\"date\"])"
   ]
  },
  {
   "cell_type": "code",
   "execution_count": 8,
   "metadata": {},
   "outputs": [],
   "source": [
    "matches[\"venue_code\"] = matches[\"venue\"].astype(\"category\").cat.codes"
   ]
  },
  {
   "cell_type": "code",
   "execution_count": 9,
   "metadata": {},
   "outputs": [],
   "source": [
    "matches[\"day_code\"] = matches[\"date\"].dt.dayofweek"
   ]
  },
  {
   "cell_type": "code",
   "execution_count": 10,
   "metadata": {},
   "outputs": [],
   "source": [
    "#retrieve just hour from ko time - time of day may affect performance\n",
    "matches[\"hour\"] = matches[\"time\"].str.replace(\":.+\", \"\", regex=True).astype(int)"
   ]
  },
  {
   "cell_type": "code",
   "execution_count": 11,
   "metadata": {},
   "outputs": [],
   "source": [
    "#create dict to rename teams so they match in home/away column\n",
    "class MissingDict(dict):\n",
    "    __missing__ = lambda self, key: key\n",
    "    \n",
    "map_values = {  \n",
    "    \"Brighton and Hove Albion\": \"Brighton\",\n",
    "    \"Manchester United\": \"Manchester Utd\",\n",
    "    \"Newcastle United\": \"Newcastle Utd\",\n",
    "    \"Sheffield United\": \"Sheffield Utd\",\n",
    "    \"Tottenham Hotspur\": \"Tottenham\",\n",
    "    \"West Bromwich Albion\": \"West Brom\",\n",
    "    \"West Ham United\": \"West Ham\",\n",
    "    \"Wolverhampton Wanderers\": \"Wolves\",    \n",
    "}\n",
    "mapping = MissingDict(**map_values)"
   ]
  },
  {
   "cell_type": "code",
   "execution_count": 12,
   "metadata": {},
   "outputs": [],
   "source": [
    "matches['team'] = matches['team'].map(mapping)"
   ]
  },
  {
   "cell_type": "code",
   "execution_count": 13,
   "metadata": {},
   "outputs": [
    {
     "data": {
      "text/html": [
       "<div>\n",
       "<style scoped>\n",
       "    .dataframe tbody tr th:only-of-type {\n",
       "        vertical-align: middle;\n",
       "    }\n",
       "\n",
       "    .dataframe tbody tr th {\n",
       "        vertical-align: top;\n",
       "    }\n",
       "\n",
       "    .dataframe thead th {\n",
       "        text-align: right;\n",
       "    }\n",
       "</style>\n",
       "<table border=\"1\" class=\"dataframe\">\n",
       "  <thead>\n",
       "    <tr style=\"text-align: right;\">\n",
       "      <th></th>\n",
       "      <th>date</th>\n",
       "      <th>time</th>\n",
       "      <th>day</th>\n",
       "      <th>venue</th>\n",
       "      <th>result</th>\n",
       "      <th>gf</th>\n",
       "      <th>ga</th>\n",
       "      <th>opponent</th>\n",
       "      <th>xg</th>\n",
       "      <th>xga</th>\n",
       "      <th>...</th>\n",
       "      <th>sh</th>\n",
       "      <th>sot</th>\n",
       "      <th>dist</th>\n",
       "      <th>fk</th>\n",
       "      <th>pk</th>\n",
       "      <th>pkatt</th>\n",
       "      <th>team</th>\n",
       "      <th>venue_code</th>\n",
       "      <th>day_code</th>\n",
       "      <th>hour</th>\n",
       "    </tr>\n",
       "  </thead>\n",
       "  <tbody>\n",
       "    <tr>\n",
       "      <th>1</th>\n",
       "      <td>2021-08-15</td>\n",
       "      <td>16:30</td>\n",
       "      <td>Sun</td>\n",
       "      <td>Away</td>\n",
       "      <td>L</td>\n",
       "      <td>0</td>\n",
       "      <td>1</td>\n",
       "      <td>Tottenham</td>\n",
       "      <td>1.9</td>\n",
       "      <td>1.3</td>\n",
       "      <td>...</td>\n",
       "      <td>18</td>\n",
       "      <td>4</td>\n",
       "      <td>16.9</td>\n",
       "      <td>1</td>\n",
       "      <td>0</td>\n",
       "      <td>0</td>\n",
       "      <td>Manchester City</td>\n",
       "      <td>0</td>\n",
       "      <td>6</td>\n",
       "      <td>16</td>\n",
       "    </tr>\n",
       "    <tr>\n",
       "      <th>2</th>\n",
       "      <td>2021-08-21</td>\n",
       "      <td>15:00</td>\n",
       "      <td>Sat</td>\n",
       "      <td>Home</td>\n",
       "      <td>W</td>\n",
       "      <td>5</td>\n",
       "      <td>0</td>\n",
       "      <td>Norwich City</td>\n",
       "      <td>2.7</td>\n",
       "      <td>0.1</td>\n",
       "      <td>...</td>\n",
       "      <td>16</td>\n",
       "      <td>4</td>\n",
       "      <td>17.3</td>\n",
       "      <td>1</td>\n",
       "      <td>0</td>\n",
       "      <td>0</td>\n",
       "      <td>Manchester City</td>\n",
       "      <td>1</td>\n",
       "      <td>5</td>\n",
       "      <td>15</td>\n",
       "    </tr>\n",
       "    <tr>\n",
       "      <th>3</th>\n",
       "      <td>2021-08-28</td>\n",
       "      <td>12:30</td>\n",
       "      <td>Sat</td>\n",
       "      <td>Home</td>\n",
       "      <td>W</td>\n",
       "      <td>5</td>\n",
       "      <td>0</td>\n",
       "      <td>Arsenal</td>\n",
       "      <td>3.8</td>\n",
       "      <td>0.1</td>\n",
       "      <td>...</td>\n",
       "      <td>25</td>\n",
       "      <td>10</td>\n",
       "      <td>14.3</td>\n",
       "      <td>0</td>\n",
       "      <td>0</td>\n",
       "      <td>0</td>\n",
       "      <td>Manchester City</td>\n",
       "      <td>1</td>\n",
       "      <td>5</td>\n",
       "      <td>12</td>\n",
       "    </tr>\n",
       "    <tr>\n",
       "      <th>4</th>\n",
       "      <td>2021-11-09</td>\n",
       "      <td>15:00</td>\n",
       "      <td>Sat</td>\n",
       "      <td>Away</td>\n",
       "      <td>W</td>\n",
       "      <td>1</td>\n",
       "      <td>0</td>\n",
       "      <td>Leicester City</td>\n",
       "      <td>2.9</td>\n",
       "      <td>0.8</td>\n",
       "      <td>...</td>\n",
       "      <td>25</td>\n",
       "      <td>8</td>\n",
       "      <td>14.0</td>\n",
       "      <td>0</td>\n",
       "      <td>0</td>\n",
       "      <td>0</td>\n",
       "      <td>Manchester City</td>\n",
       "      <td>0</td>\n",
       "      <td>1</td>\n",
       "      <td>15</td>\n",
       "    </tr>\n",
       "    <tr>\n",
       "      <th>6</th>\n",
       "      <td>2021-09-18</td>\n",
       "      <td>15:00</td>\n",
       "      <td>Sat</td>\n",
       "      <td>Home</td>\n",
       "      <td>D</td>\n",
       "      <td>0</td>\n",
       "      <td>0</td>\n",
       "      <td>Southampton</td>\n",
       "      <td>1.1</td>\n",
       "      <td>0.4</td>\n",
       "      <td>...</td>\n",
       "      <td>16</td>\n",
       "      <td>1</td>\n",
       "      <td>15.7</td>\n",
       "      <td>1</td>\n",
       "      <td>0</td>\n",
       "      <td>0</td>\n",
       "      <td>Manchester City</td>\n",
       "      <td>1</td>\n",
       "      <td>5</td>\n",
       "      <td>15</td>\n",
       "    </tr>\n",
       "  </tbody>\n",
       "</table>\n",
       "<p>5 rows × 21 columns</p>\n",
       "</div>"
      ],
      "text/plain": [
       "        date   time  day venue result  gf  ga        opponent   xg  xga  ...  \\\n",
       "1 2021-08-15  16:30  Sun  Away      L   0   1       Tottenham  1.9  1.3  ...   \n",
       "2 2021-08-21  15:00  Sat  Home      W   5   0    Norwich City  2.7  0.1  ...   \n",
       "3 2021-08-28  12:30  Sat  Home      W   5   0         Arsenal  3.8  0.1  ...   \n",
       "4 2021-11-09  15:00  Sat  Away      W   1   0  Leicester City  2.9  0.8  ...   \n",
       "6 2021-09-18  15:00  Sat  Home      D   0   0     Southampton  1.1  0.4  ...   \n",
       "\n",
       "   sh  sot  dist  fk  pk  pkatt             team venue_code  day_code  hour  \n",
       "1  18    4  16.9   1   0      0  Manchester City          0         6    16  \n",
       "2  16    4  17.3   1   0      0  Manchester City          1         5    15  \n",
       "3  25   10  14.3   0   0      0  Manchester City          1         5    12  \n",
       "4  25    8  14.0   0   0      0  Manchester City          0         1    15  \n",
       "6  16    1  15.7   1   0      0  Manchester City          1         5    15  \n",
       "\n",
       "[5 rows x 21 columns]"
      ]
     },
     "execution_count": 13,
     "metadata": {},
     "output_type": "execute_result"
    }
   ],
   "source": [
    "matches.head()"
   ]
  },
  {
   "cell_type": "code",
   "execution_count": 14,
   "metadata": {},
   "outputs": [],
   "source": [
    "#determine points acquired\n",
    "matches[\"points\"] = matches[\"result\"].apply(lambda row: 3 if row==\"W\" else 1 if row==\"D\" else 0)"
   ]
  },
  {
   "cell_type": "code",
   "execution_count": 15,
   "metadata": {},
   "outputs": [],
   "source": [
    "#convert W/L/D to numbers for classification\n",
    "matches[\"results_class\"] = matches[\"result\"].apply(lambda row: 2 if row==\"W\" else 1 if row==\"D\" else 0)"
   ]
  },
  {
   "cell_type": "code",
   "execution_count": 16,
   "metadata": {},
   "outputs": [
    {
     "data": {
      "text/plain": [
       "Index(['date', 'time', 'day', 'venue', 'result', 'gf', 'ga', 'opponent', 'xg',\n",
       "       'xga', 'poss', 'sh', 'sot', 'dist', 'fk', 'pk', 'pkatt', 'team',\n",
       "       'venue_code', 'day_code', 'hour', 'points', 'results_class'],\n",
       "      dtype='object')"
      ]
     },
     "execution_count": 16,
     "metadata": {},
     "output_type": "execute_result"
    }
   ],
   "source": [
    "matches.columns"
   ]
  },
  {
   "cell_type": "code",
   "execution_count": 17,
   "metadata": {
    "scrolled": true
   },
   "outputs": [],
   "source": [
    "matches.sort_values('date', inplace=True)"
   ]
  },
  {
   "cell_type": "code",
   "execution_count": 18,
   "metadata": {},
   "outputs": [],
   "source": [
    "#create rolling averages based on previous 4 games\n",
    "cols = ['points', 'gf', 'ga', 'sh', 'sot', 'dist', 'fk', 'pk', 'pkatt', 'poss', 'xg', 'xga']\n",
    "new_cols = [f\"{c}_rolling\" for c in cols]\n",
    "matches[new_cols] = matches.groupby('team')[cols].transform(lambda x: x.rolling(4).mean().shift().bfill())"
   ]
  },
  {
   "cell_type": "code",
   "execution_count": 19,
   "metadata": {},
   "outputs": [],
   "source": [
    "#group by team\n",
    "grp_matches = matches.groupby(\"team\").apply(lambda a: a[:]).drop('team', axis=1).droplevel(1)"
   ]
  },
  {
   "cell_type": "code",
   "execution_count": 20,
   "metadata": {},
   "outputs": [],
   "source": [
    "grp_matches.reset_index(inplace=True)"
   ]
  },
  {
   "cell_type": "code",
   "execution_count": 21,
   "metadata": {},
   "outputs": [],
   "source": [
    "#keep important columns that have potential impact on performance\n",
    "avg_matches = grp_matches[['date', \n",
    "                           'team',\n",
    "                           'opponent',\n",
    "                           'venue_code', \n",
    "                           'hour', \n",
    "                           'day_code', \n",
    "                           'points_rolling', \n",
    "                           'gf_rolling', \n",
    "                           'ga_rolling', \n",
    "                           'sh_rolling', \n",
    "                           'sot_rolling', \n",
    "                           'dist_rolling', \n",
    "                           'fk_rolling', \n",
    "                           'pk_rolling', \n",
    "                           'pkatt_rolling',\n",
    "                           'poss_rolling',\n",
    "                           'xg_rolling', \n",
    "                           'xga_rolling', \n",
    "                           'results_class']].dropna(axis=0)"
   ]
  },
  {
   "cell_type": "code",
   "execution_count": 22,
   "metadata": {},
   "outputs": [],
   "source": [
    "#split in to home and awya matches based on venue code\n",
    "home_matches = avg_matches[avg_matches[\"venue_code\"]==1].sort_values(\"date\")\n",
    "away_matches = avg_matches[avg_matches[\"venue_code\"]==0].sort_values(\"date\")"
   ]
  },
  {
   "cell_type": "code",
   "execution_count": 23,
   "metadata": {},
   "outputs": [
    {
     "data": {
      "text/html": [
       "<div>\n",
       "<style scoped>\n",
       "    .dataframe tbody tr th:only-of-type {\n",
       "        vertical-align: middle;\n",
       "    }\n",
       "\n",
       "    .dataframe tbody tr th {\n",
       "        vertical-align: top;\n",
       "    }\n",
       "\n",
       "    .dataframe thead th {\n",
       "        text-align: right;\n",
       "    }\n",
       "</style>\n",
       "<table border=\"1\" class=\"dataframe\">\n",
       "  <thead>\n",
       "    <tr style=\"text-align: right;\">\n",
       "      <th></th>\n",
       "      <th>date</th>\n",
       "      <th>team</th>\n",
       "      <th>opponent</th>\n",
       "      <th>venue_code</th>\n",
       "      <th>hour</th>\n",
       "      <th>day_code</th>\n",
       "      <th>points_rolling</th>\n",
       "      <th>gf_rolling</th>\n",
       "      <th>ga_rolling</th>\n",
       "      <th>sh_rolling</th>\n",
       "      <th>sot_rolling</th>\n",
       "      <th>dist_rolling</th>\n",
       "      <th>fk_rolling</th>\n",
       "      <th>pk_rolling</th>\n",
       "      <th>pkatt_rolling</th>\n",
       "      <th>poss_rolling</th>\n",
       "      <th>xg_rolling</th>\n",
       "      <th>xga_rolling</th>\n",
       "      <th>results_class</th>\n",
       "    </tr>\n",
       "  </thead>\n",
       "  <tbody>\n",
       "    <tr>\n",
       "      <th>1104</th>\n",
       "      <td>2020-01-11</td>\n",
       "      <td>Tottenham</td>\n",
       "      <td>Brighton</td>\n",
       "      <td>1</td>\n",
       "      <td>19</td>\n",
       "      <td>5</td>\n",
       "      <td>3.00</td>\n",
       "      <td>2.75</td>\n",
       "      <td>0.50</td>\n",
       "      <td>13.50</td>\n",
       "      <td>4.25</td>\n",
       "      <td>17.425</td>\n",
       "      <td>1.00</td>\n",
       "      <td>0.50</td>\n",
       "      <td>0.50</td>\n",
       "      <td>49.25</td>\n",
       "      <td>1.925</td>\n",
       "      <td>0.725</td>\n",
       "      <td>2</td>\n",
       "    </tr>\n",
       "    <tr>\n",
       "      <th>889</th>\n",
       "      <td>2020-01-11</td>\n",
       "      <td>Newcastle Utd</td>\n",
       "      <td>Everton</td>\n",
       "      <td>1</td>\n",
       "      <td>14</td>\n",
       "      <td>5</td>\n",
       "      <td>1.50</td>\n",
       "      <td>1.25</td>\n",
       "      <td>1.75</td>\n",
       "      <td>7.00</td>\n",
       "      <td>2.25</td>\n",
       "      <td>17.400</td>\n",
       "      <td>0.25</td>\n",
       "      <td>0.50</td>\n",
       "      <td>0.50</td>\n",
       "      <td>42.75</td>\n",
       "      <td>1.375</td>\n",
       "      <td>1.075</td>\n",
       "      <td>2</td>\n",
       "    </tr>\n",
       "    <tr>\n",
       "      <th>817</th>\n",
       "      <td>2020-01-11</td>\n",
       "      <td>Manchester Utd</td>\n",
       "      <td>Arsenal</td>\n",
       "      <td>1</td>\n",
       "      <td>16</td>\n",
       "      <td>5</td>\n",
       "      <td>1.50</td>\n",
       "      <td>1.75</td>\n",
       "      <td>2.25</td>\n",
       "      <td>10.25</td>\n",
       "      <td>3.50</td>\n",
       "      <td>20.150</td>\n",
       "      <td>0.50</td>\n",
       "      <td>0.25</td>\n",
       "      <td>0.25</td>\n",
       "      <td>49.00</td>\n",
       "      <td>1.175</td>\n",
       "      <td>1.925</td>\n",
       "      <td>0</td>\n",
       "    </tr>\n",
       "    <tr>\n",
       "      <th>71</th>\n",
       "      <td>2020-01-11</td>\n",
       "      <td>Aston Villa</td>\n",
       "      <td>Southampton</td>\n",
       "      <td>1</td>\n",
       "      <td>12</td>\n",
       "      <td>5</td>\n",
       "      <td>2.25</td>\n",
       "      <td>3.50</td>\n",
       "      <td>1.50</td>\n",
       "      <td>17.75</td>\n",
       "      <td>6.75</td>\n",
       "      <td>15.125</td>\n",
       "      <td>0.25</td>\n",
       "      <td>0.25</td>\n",
       "      <td>0.25</td>\n",
       "      <td>50.50</td>\n",
       "      <td>2.100</td>\n",
       "      <td>1.225</td>\n",
       "      <td>0</td>\n",
       "    </tr>\n",
       "    <tr>\n",
       "      <th>567</th>\n",
       "      <td>2020-02-11</td>\n",
       "      <td>Leeds United</td>\n",
       "      <td>Leicester City</td>\n",
       "      <td>1</td>\n",
       "      <td>20</td>\n",
       "      <td>1</td>\n",
       "      <td>0.25</td>\n",
       "      <td>1.00</td>\n",
       "      <td>3.00</td>\n",
       "      <td>10.25</td>\n",
       "      <td>4.50</td>\n",
       "      <td>15.600</td>\n",
       "      <td>0.25</td>\n",
       "      <td>0.00</td>\n",
       "      <td>0.00</td>\n",
       "      <td>59.25</td>\n",
       "      <td>1.200</td>\n",
       "      <td>2.400</td>\n",
       "      <td>0</td>\n",
       "    </tr>\n",
       "  </tbody>\n",
       "</table>\n",
       "</div>"
      ],
      "text/plain": [
       "           date            team        opponent  venue_code  hour  day_code  \\\n",
       "1104 2020-01-11       Tottenham        Brighton           1    19         5   \n",
       "889  2020-01-11   Newcastle Utd         Everton           1    14         5   \n",
       "817  2020-01-11  Manchester Utd         Arsenal           1    16         5   \n",
       "71   2020-01-11     Aston Villa     Southampton           1    12         5   \n",
       "567  2020-02-11    Leeds United  Leicester City           1    20         1   \n",
       "\n",
       "      points_rolling  gf_rolling  ga_rolling  sh_rolling  sot_rolling  \\\n",
       "1104            3.00        2.75        0.50       13.50         4.25   \n",
       "889             1.50        1.25        1.75        7.00         2.25   \n",
       "817             1.50        1.75        2.25       10.25         3.50   \n",
       "71              2.25        3.50        1.50       17.75         6.75   \n",
       "567             0.25        1.00        3.00       10.25         4.50   \n",
       "\n",
       "      dist_rolling  fk_rolling  pk_rolling  pkatt_rolling  poss_rolling  \\\n",
       "1104        17.425        1.00        0.50           0.50         49.25   \n",
       "889         17.400        0.25        0.50           0.50         42.75   \n",
       "817         20.150        0.50        0.25           0.25         49.00   \n",
       "71          15.125        0.25        0.25           0.25         50.50   \n",
       "567         15.600        0.25        0.00           0.00         59.25   \n",
       "\n",
       "      xg_rolling  xga_rolling  results_class  \n",
       "1104       1.925        0.725              2  \n",
       "889        1.375        1.075              2  \n",
       "817        1.175        1.925              0  \n",
       "71         2.100        1.225              0  \n",
       "567        1.200        2.400              0  "
      ]
     },
     "execution_count": 23,
     "metadata": {},
     "output_type": "execute_result"
    }
   ],
   "source": [
    "home_matches.head()"
   ]
  },
  {
   "cell_type": "code",
   "execution_count": 24,
   "metadata": {},
   "outputs": [
    {
     "data": {
      "text/html": [
       "<div>\n",
       "<style scoped>\n",
       "    .dataframe tbody tr th:only-of-type {\n",
       "        vertical-align: middle;\n",
       "    }\n",
       "\n",
       "    .dataframe tbody tr th {\n",
       "        vertical-align: top;\n",
       "    }\n",
       "\n",
       "    .dataframe thead th {\n",
       "        text-align: right;\n",
       "    }\n",
       "</style>\n",
       "<table border=\"1\" class=\"dataframe\">\n",
       "  <thead>\n",
       "    <tr style=\"text-align: right;\">\n",
       "      <th></th>\n",
       "      <th>date</th>\n",
       "      <th>team</th>\n",
       "      <th>opponent</th>\n",
       "      <th>venue_code</th>\n",
       "      <th>hour</th>\n",
       "      <th>day_code</th>\n",
       "      <th>points_rolling</th>\n",
       "      <th>gf_rolling</th>\n",
       "      <th>ga_rolling</th>\n",
       "      <th>sh_rolling</th>\n",
       "      <th>sot_rolling</th>\n",
       "      <th>dist_rolling</th>\n",
       "      <th>fk_rolling</th>\n",
       "      <th>pk_rolling</th>\n",
       "      <th>pkatt_rolling</th>\n",
       "      <th>poss_rolling</th>\n",
       "      <th>xg_rolling</th>\n",
       "      <th>xga_rolling</th>\n",
       "      <th>results_class</th>\n",
       "    </tr>\n",
       "  </thead>\n",
       "  <tbody>\n",
       "    <tr>\n",
       "      <th>0</th>\n",
       "      <td>2020-01-11</td>\n",
       "      <td>Arsenal</td>\n",
       "      <td>Manchester Utd</td>\n",
       "      <td>0</td>\n",
       "      <td>16</td>\n",
       "      <td>5</td>\n",
       "      <td>1.50</td>\n",
       "      <td>0.75</td>\n",
       "      <td>1.5</td>\n",
       "      <td>9.25</td>\n",
       "      <td>2.50</td>\n",
       "      <td>17.525</td>\n",
       "      <td>0.25</td>\n",
       "      <td>0.25</td>\n",
       "      <td>0.25</td>\n",
       "      <td>59.00</td>\n",
       "      <td>0.950</td>\n",
       "      <td>0.675</td>\n",
       "      <td>2</td>\n",
       "    </tr>\n",
       "    <tr>\n",
       "      <th>175</th>\n",
       "      <td>2020-01-11</td>\n",
       "      <td>Brighton</td>\n",
       "      <td>Tottenham</td>\n",
       "      <td>0</td>\n",
       "      <td>19</td>\n",
       "      <td>5</td>\n",
       "      <td>0.25</td>\n",
       "      <td>1.00</td>\n",
       "      <td>2.0</td>\n",
       "      <td>11.75</td>\n",
       "      <td>2.75</td>\n",
       "      <td>16.175</td>\n",
       "      <td>0.50</td>\n",
       "      <td>0.25</td>\n",
       "      <td>0.25</td>\n",
       "      <td>55.25</td>\n",
       "      <td>1.250</td>\n",
       "      <td>1.250</td>\n",
       "      <td>0</td>\n",
       "    </tr>\n",
       "    <tr>\n",
       "      <th>459</th>\n",
       "      <td>2020-01-11</td>\n",
       "      <td>Everton</td>\n",
       "      <td>Newcastle Utd</td>\n",
       "      <td>0</td>\n",
       "      <td>14</td>\n",
       "      <td>5</td>\n",
       "      <td>1.00</td>\n",
       "      <td>1.75</td>\n",
       "      <td>2.0</td>\n",
       "      <td>11.50</td>\n",
       "      <td>4.25</td>\n",
       "      <td>16.775</td>\n",
       "      <td>0.00</td>\n",
       "      <td>0.00</td>\n",
       "      <td>0.00</td>\n",
       "      <td>55.00</td>\n",
       "      <td>1.325</td>\n",
       "      <td>1.525</td>\n",
       "      <td>0</td>\n",
       "    </tr>\n",
       "    <tr>\n",
       "      <th>1032</th>\n",
       "      <td>2020-01-11</td>\n",
       "      <td>Southampton</td>\n",
       "      <td>Aston Villa</td>\n",
       "      <td>0</td>\n",
       "      <td>12</td>\n",
       "      <td>5</td>\n",
       "      <td>3.00</td>\n",
       "      <td>2.50</td>\n",
       "      <td>1.0</td>\n",
       "      <td>11.50</td>\n",
       "      <td>5.00</td>\n",
       "      <td>17.825</td>\n",
       "      <td>0.50</td>\n",
       "      <td>0.25</td>\n",
       "      <td>0.25</td>\n",
       "      <td>54.50</td>\n",
       "      <td>0.975</td>\n",
       "      <td>1.125</td>\n",
       "      <td>2</td>\n",
       "    </tr>\n",
       "    <tr>\n",
       "      <th>1208</th>\n",
       "      <td>2020-02-11</td>\n",
       "      <td>West Brom</td>\n",
       "      <td>Fulham</td>\n",
       "      <td>0</td>\n",
       "      <td>17</td>\n",
       "      <td>1</td>\n",
       "      <td>0.00</td>\n",
       "      <td>0.25</td>\n",
       "      <td>2.5</td>\n",
       "      <td>9.00</td>\n",
       "      <td>2.50</td>\n",
       "      <td>18.675</td>\n",
       "      <td>0.25</td>\n",
       "      <td>0.00</td>\n",
       "      <td>0.00</td>\n",
       "      <td>45.50</td>\n",
       "      <td>0.550</td>\n",
       "      <td>1.525</td>\n",
       "      <td>0</td>\n",
       "    </tr>\n",
       "  </tbody>\n",
       "</table>\n",
       "</div>"
      ],
      "text/plain": [
       "           date         team        opponent  venue_code  hour  day_code  \\\n",
       "0    2020-01-11      Arsenal  Manchester Utd           0    16         5   \n",
       "175  2020-01-11     Brighton       Tottenham           0    19         5   \n",
       "459  2020-01-11      Everton   Newcastle Utd           0    14         5   \n",
       "1032 2020-01-11  Southampton     Aston Villa           0    12         5   \n",
       "1208 2020-02-11    West Brom          Fulham           0    17         1   \n",
       "\n",
       "      points_rolling  gf_rolling  ga_rolling  sh_rolling  sot_rolling  \\\n",
       "0               1.50        0.75         1.5        9.25         2.50   \n",
       "175             0.25        1.00         2.0       11.75         2.75   \n",
       "459             1.00        1.75         2.0       11.50         4.25   \n",
       "1032            3.00        2.50         1.0       11.50         5.00   \n",
       "1208            0.00        0.25         2.5        9.00         2.50   \n",
       "\n",
       "      dist_rolling  fk_rolling  pk_rolling  pkatt_rolling  poss_rolling  \\\n",
       "0           17.525        0.25        0.25           0.25         59.00   \n",
       "175         16.175        0.50        0.25           0.25         55.25   \n",
       "459         16.775        0.00        0.00           0.00         55.00   \n",
       "1032        17.825        0.50        0.25           0.25         54.50   \n",
       "1208        18.675        0.25        0.00           0.00         45.50   \n",
       "\n",
       "      xg_rolling  xga_rolling  results_class  \n",
       "0          0.950        0.675              2  \n",
       "175        1.250        1.250              0  \n",
       "459        1.325        1.525              0  \n",
       "1032       0.975        1.125              2  \n",
       "1208       0.550        1.525              0  "
      ]
     },
     "execution_count": 24,
     "metadata": {},
     "output_type": "execute_result"
    }
   ],
   "source": [
    "away_matches.head()"
   ]
  },
  {
   "cell_type": "code",
   "execution_count": 25,
   "metadata": {},
   "outputs": [],
   "source": [
    "#remerge so no matches are repeated\n",
    "merge_matches = pd.merge(home_matches, away_matches, \n",
    "                         left_on=[\"date\", \"team\", \"opponent\"], \n",
    "                         right_on=[\"date\", \"opponent\", \"team\"], \n",
    "                         suffixes=('_home', '_away')).sort_values(\"date\")"
   ]
  },
  {
   "cell_type": "code",
   "execution_count": 26,
   "metadata": {},
   "outputs": [],
   "source": [
    "merge_matches.drop([\"opponent_home\", \"opponent_away\", \"venue_code_home\", \"venue_code_away\", \"results_class_away\", \"hour_away\", \"day_code_away\"], axis=1, inplace=True)"
   ]
  },
  {
   "cell_type": "code",
   "execution_count": 27,
   "metadata": {},
   "outputs": [
    {
     "data": {
      "text/plain": [
       "Index(['date', 'team_home', 'hour_home', 'day_code_home',\n",
       "       'points_rolling_home', 'gf_rolling_home', 'ga_rolling_home',\n",
       "       'sh_rolling_home', 'sot_rolling_home', 'dist_rolling_home',\n",
       "       'fk_rolling_home', 'pk_rolling_home', 'pkatt_rolling_home',\n",
       "       'poss_rolling_home', 'xg_rolling_home', 'xga_rolling_home',\n",
       "       'results_class_home', 'team_away', 'points_rolling_away',\n",
       "       'gf_rolling_away', 'ga_rolling_away', 'sh_rolling_away',\n",
       "       'sot_rolling_away', 'dist_rolling_away', 'fk_rolling_away',\n",
       "       'pk_rolling_away', 'pkatt_rolling_away', 'poss_rolling_away',\n",
       "       'xg_rolling_away', 'xga_rolling_away'],\n",
       "      dtype='object')"
      ]
     },
     "execution_count": 27,
     "metadata": {},
     "output_type": "execute_result"
    }
   ],
   "source": [
    "merge_matches.columns"
   ]
  },
  {
   "cell_type": "code",
   "execution_count": 28,
   "metadata": {},
   "outputs": [],
   "source": [
    "merge_matches.rename({\"hour_home\": \"hour\", \"day_code_home\": \"day_code\"}, axis=1, inplace=True)"
   ]
  },
  {
   "cell_type": "code",
   "execution_count": 29,
   "metadata": {
    "scrolled": true
   },
   "outputs": [
    {
     "data": {
      "text/plain": [
       "Index(['date', 'team_home', 'hour', 'day_code', 'points_rolling_home',\n",
       "       'gf_rolling_home', 'ga_rolling_home', 'sh_rolling_home',\n",
       "       'sot_rolling_home', 'dist_rolling_home', 'fk_rolling_home',\n",
       "       'pk_rolling_home', 'pkatt_rolling_home', 'poss_rolling_home',\n",
       "       'xg_rolling_home', 'xga_rolling_home', 'results_class_home',\n",
       "       'team_away', 'points_rolling_away', 'gf_rolling_away',\n",
       "       'ga_rolling_away', 'sh_rolling_away', 'sot_rolling_away',\n",
       "       'dist_rolling_away', 'fk_rolling_away', 'pk_rolling_away',\n",
       "       'pkatt_rolling_away', 'poss_rolling_away', 'xg_rolling_away',\n",
       "       'xga_rolling_away'],\n",
       "      dtype='object')"
      ]
     },
     "execution_count": 29,
     "metadata": {},
     "output_type": "execute_result"
    }
   ],
   "source": [
    "merge_matches.columns"
   ]
  },
  {
   "cell_type": "code",
   "execution_count": 30,
   "metadata": {},
   "outputs": [],
   "source": [
    "merge_matches[\"team_home_code\"] = merge_matches[\"team_home\"].astype(\"category\").cat.codes"
   ]
  },
  {
   "cell_type": "code",
   "execution_count": 31,
   "metadata": {},
   "outputs": [],
   "source": [
    "merge_matches[\"team_away_code\"] = merge_matches[\"team_away\"].astype(\"category\").cat.codes"
   ]
  },
  {
   "cell_type": "code",
   "execution_count": 32,
   "metadata": {},
   "outputs": [],
   "source": [
    "# create columns with average stat differences between the two teams\n",
    "merge_matches['points_rolling_diff'] = (merge_matches['points_rolling_home']-merge_matches['points_rolling_away'])\n",
    "merge_matches['gf_rolling_diff'] = (merge_matches['gf_rolling_home']-merge_matches['gf_rolling_away'])\n",
    "merge_matches['ga_rolling_diff'] = (merge_matches['ga_rolling_home']-merge_matches['ga_rolling_away'])\n",
    "merge_matches['sh_rolling_diff'] = (merge_matches['sh_rolling_home']-merge_matches['sh_rolling_away'])\n",
    "merge_matches['sot_rolling_diff'] = (merge_matches['sot_rolling_home']-merge_matches['sot_rolling_away'])\n",
    "merge_matches['poss_rolling_diff'] = (merge_matches['poss_rolling_home']-merge_matches['poss_rolling_away'])\n",
    "merge_matches['xg_rolling_diff'] = (merge_matches['xg_rolling_home']-merge_matches['xg_rolling_away'])\n",
    "merge_matches['xga_rolling_diff'] = (merge_matches['xga_rolling_home']-merge_matches['xga_rolling_away'])"
   ]
  },
  {
   "cell_type": "code",
   "execution_count": 33,
   "metadata": {},
   "outputs": [],
   "source": [
    "#final column features\n",
    "final_df = merge_matches[['date',\n",
    "                          'hour', \n",
    "                          'day_code', \n",
    "                          'team_home',\n",
    "                          'team_away', \n",
    "                          'points_rolling_diff', \n",
    "                          'gf_rolling_diff', \n",
    "                          'ga_rolling_diff', \n",
    "                          'sh_rolling_diff', \n",
    "                          'sot_rolling_diff', \n",
    "                          'poss_rolling_diff', \n",
    "                          'xg_rolling_diff', \n",
    "                          'xga_rolling_diff', \n",
    "                          'results_class_home']]"
   ]
  },
  {
   "cell_type": "code",
   "execution_count": 34,
   "metadata": {},
   "outputs": [
    {
     "data": {
      "text/plain": [
       "hour                   0.015303\n",
       "day_code              -0.027495\n",
       "points_rolling_diff    0.278196\n",
       "gf_rolling_diff        0.275564\n",
       "ga_rolling_diff       -0.183566\n",
       "sh_rolling_diff        0.218127\n",
       "sot_rolling_diff       0.266351\n",
       "poss_rolling_diff      0.254976\n",
       "xg_rolling_diff        0.275438\n",
       "xga_rolling_diff      -0.195824\n",
       "results_class_home     1.000000\n",
       "Name: results_class_home, dtype: float64"
      ]
     },
     "execution_count": 34,
     "metadata": {},
     "output_type": "execute_result"
    }
   ],
   "source": [
    "#observe correlations between features and target \n",
    "final_df.corr()['results_class_home'][:]"
   ]
  },
  {
   "cell_type": "code",
   "execution_count": 35,
   "metadata": {
    "scrolled": true
   },
   "outputs": [
    {
     "data": {
      "text/html": [
       "<div>\n",
       "<style scoped>\n",
       "    .dataframe tbody tr th:only-of-type {\n",
       "        vertical-align: middle;\n",
       "    }\n",
       "\n",
       "    .dataframe tbody tr th {\n",
       "        vertical-align: top;\n",
       "    }\n",
       "\n",
       "    .dataframe thead th {\n",
       "        text-align: right;\n",
       "    }\n",
       "</style>\n",
       "<table border=\"1\" class=\"dataframe\">\n",
       "  <thead>\n",
       "    <tr style=\"text-align: right;\">\n",
       "      <th></th>\n",
       "      <th>date</th>\n",
       "      <th>hour</th>\n",
       "      <th>day_code</th>\n",
       "      <th>team_home</th>\n",
       "      <th>team_away</th>\n",
       "      <th>points_rolling_diff</th>\n",
       "      <th>gf_rolling_diff</th>\n",
       "      <th>ga_rolling_diff</th>\n",
       "      <th>sh_rolling_diff</th>\n",
       "      <th>sot_rolling_diff</th>\n",
       "      <th>poss_rolling_diff</th>\n",
       "      <th>xg_rolling_diff</th>\n",
       "      <th>xga_rolling_diff</th>\n",
       "      <th>results_class_home</th>\n",
       "    </tr>\n",
       "  </thead>\n",
       "  <tbody>\n",
       "    <tr>\n",
       "      <th>0</th>\n",
       "      <td>2020-01-11</td>\n",
       "      <td>19</td>\n",
       "      <td>5</td>\n",
       "      <td>Tottenham</td>\n",
       "      <td>Brighton</td>\n",
       "      <td>2.75</td>\n",
       "      <td>1.75</td>\n",
       "      <td>-1.50</td>\n",
       "      <td>1.75</td>\n",
       "      <td>1.50</td>\n",
       "      <td>-6.00</td>\n",
       "      <td>0.675</td>\n",
       "      <td>-0.525</td>\n",
       "      <td>2</td>\n",
       "    </tr>\n",
       "    <tr>\n",
       "      <th>1</th>\n",
       "      <td>2020-01-11</td>\n",
       "      <td>14</td>\n",
       "      <td>5</td>\n",
       "      <td>Newcastle Utd</td>\n",
       "      <td>Everton</td>\n",
       "      <td>0.50</td>\n",
       "      <td>-0.50</td>\n",
       "      <td>-0.25</td>\n",
       "      <td>-4.50</td>\n",
       "      <td>-2.00</td>\n",
       "      <td>-12.25</td>\n",
       "      <td>0.050</td>\n",
       "      <td>-0.450</td>\n",
       "      <td>2</td>\n",
       "    </tr>\n",
       "    <tr>\n",
       "      <th>2</th>\n",
       "      <td>2020-01-11</td>\n",
       "      <td>16</td>\n",
       "      <td>5</td>\n",
       "      <td>Manchester Utd</td>\n",
       "      <td>Arsenal</td>\n",
       "      <td>0.00</td>\n",
       "      <td>1.00</td>\n",
       "      <td>0.75</td>\n",
       "      <td>1.00</td>\n",
       "      <td>1.00</td>\n",
       "      <td>-10.00</td>\n",
       "      <td>0.225</td>\n",
       "      <td>1.250</td>\n",
       "      <td>0</td>\n",
       "    </tr>\n",
       "    <tr>\n",
       "      <th>3</th>\n",
       "      <td>2020-01-11</td>\n",
       "      <td>12</td>\n",
       "      <td>5</td>\n",
       "      <td>Aston Villa</td>\n",
       "      <td>Southampton</td>\n",
       "      <td>-0.75</td>\n",
       "      <td>1.00</td>\n",
       "      <td>0.50</td>\n",
       "      <td>6.25</td>\n",
       "      <td>1.75</td>\n",
       "      <td>-4.00</td>\n",
       "      <td>1.125</td>\n",
       "      <td>0.100</td>\n",
       "      <td>0</td>\n",
       "    </tr>\n",
       "    <tr>\n",
       "      <th>4</th>\n",
       "      <td>2020-02-11</td>\n",
       "      <td>20</td>\n",
       "      <td>1</td>\n",
       "      <td>Leeds United</td>\n",
       "      <td>Leicester City</td>\n",
       "      <td>-2.00</td>\n",
       "      <td>-0.75</td>\n",
       "      <td>1.75</td>\n",
       "      <td>1.75</td>\n",
       "      <td>1.50</td>\n",
       "      <td>4.00</td>\n",
       "      <td>-0.625</td>\n",
       "      <td>1.550</td>\n",
       "      <td>0</td>\n",
       "    </tr>\n",
       "  </tbody>\n",
       "</table>\n",
       "</div>"
      ],
      "text/plain": [
       "        date  hour  day_code       team_home       team_away  \\\n",
       "0 2020-01-11    19         5       Tottenham        Brighton   \n",
       "1 2020-01-11    14         5   Newcastle Utd         Everton   \n",
       "2 2020-01-11    16         5  Manchester Utd         Arsenal   \n",
       "3 2020-01-11    12         5     Aston Villa     Southampton   \n",
       "4 2020-02-11    20         1    Leeds United  Leicester City   \n",
       "\n",
       "   points_rolling_diff  gf_rolling_diff  ga_rolling_diff  sh_rolling_diff  \\\n",
       "0                 2.75             1.75            -1.50             1.75   \n",
       "1                 0.50            -0.50            -0.25            -4.50   \n",
       "2                 0.00             1.00             0.75             1.00   \n",
       "3                -0.75             1.00             0.50             6.25   \n",
       "4                -2.00            -0.75             1.75             1.75   \n",
       "\n",
       "   sot_rolling_diff  poss_rolling_diff  xg_rolling_diff  xga_rolling_diff  \\\n",
       "0              1.50              -6.00            0.675            -0.525   \n",
       "1             -2.00             -12.25            0.050            -0.450   \n",
       "2              1.00             -10.00            0.225             1.250   \n",
       "3              1.75              -4.00            1.125             0.100   \n",
       "4              1.50               4.00           -0.625             1.550   \n",
       "\n",
       "   results_class_home  \n",
       "0                   2  \n",
       "1                   2  \n",
       "2                   0  \n",
       "3                   0  \n",
       "4                   0  "
      ]
     },
     "execution_count": 35,
     "metadata": {},
     "output_type": "execute_result"
    }
   ],
   "source": [
    "final_df.head()"
   ]
  },
  {
   "cell_type": "code",
   "execution_count": 36,
   "metadata": {},
   "outputs": [
    {
     "name": "stderr",
     "output_type": "stream",
     "text": [
      "<ipython-input-36-e5743ac03b79>:2: SettingWithCopyWarning: \n",
      "A value is trying to be set on a copy of a slice from a DataFrame.\n",
      "Try using .loc[row_indexer,col_indexer] = value instead\n",
      "\n",
      "See the caveats in the documentation: https://pandas.pydata.org/pandas-docs/stable/user_guide/indexing.html#returning-a-view-versus-a-copy\n",
      "  final_df[\"team_home_code\"] = final_df[\"team_home\"].astype(\"category\").cat.codes\n",
      "<ipython-input-36-e5743ac03b79>:3: SettingWithCopyWarning: \n",
      "A value is trying to be set on a copy of a slice from a DataFrame.\n",
      "Try using .loc[row_indexer,col_indexer] = value instead\n",
      "\n",
      "See the caveats in the documentation: https://pandas.pydata.org/pandas-docs/stable/user_guide/indexing.html#returning-a-view-versus-a-copy\n",
      "  final_df[\"team_away_code\"] = final_df[\"team_away\"].astype(\"category\").cat.codes\n"
     ]
    }
   ],
   "source": [
    "#convert team names to numeric codes for machine learning model\n",
    "final_df[\"team_home_code\"] = final_df[\"team_home\"].astype(\"category\").cat.codes\n",
    "final_df[\"team_away_code\"] = final_df[\"team_away\"].astype(\"category\").cat.codes"
   ]
  },
  {
   "cell_type": "markdown",
   "metadata": {},
   "source": [
    "## Machine Learning Model"
   ]
  },
  {
   "cell_type": "code",
   "execution_count": 37,
   "metadata": {},
   "outputs": [],
   "source": [
    "# train = final_df[final_df[\"date\"] < \"2022-01-01\"].select_dtypes(['number'])"
   ]
  },
  {
   "cell_type": "code",
   "execution_count": 38,
   "metadata": {},
   "outputs": [],
   "source": [
    "# test = final_df[final_df[\"date\"] > \"2022-01-01\"].select_dtypes(['number'])"
   ]
  },
  {
   "cell_type": "code",
   "execution_count": 39,
   "metadata": {},
   "outputs": [],
   "source": [
    "#select only numeric features for model\n",
    "final_df = final_df.select_dtypes(['number'])"
   ]
  },
  {
   "cell_type": "code",
   "execution_count": 40,
   "metadata": {},
   "outputs": [
    {
     "data": {
      "text/html": [
       "<div>\n",
       "<style scoped>\n",
       "    .dataframe tbody tr th:only-of-type {\n",
       "        vertical-align: middle;\n",
       "    }\n",
       "\n",
       "    .dataframe tbody tr th {\n",
       "        vertical-align: top;\n",
       "    }\n",
       "\n",
       "    .dataframe thead th {\n",
       "        text-align: right;\n",
       "    }\n",
       "</style>\n",
       "<table border=\"1\" class=\"dataframe\">\n",
       "  <thead>\n",
       "    <tr style=\"text-align: right;\">\n",
       "      <th></th>\n",
       "      <th>hour</th>\n",
       "      <th>day_code</th>\n",
       "      <th>points_rolling_diff</th>\n",
       "      <th>gf_rolling_diff</th>\n",
       "      <th>ga_rolling_diff</th>\n",
       "      <th>sh_rolling_diff</th>\n",
       "      <th>sot_rolling_diff</th>\n",
       "      <th>poss_rolling_diff</th>\n",
       "      <th>xg_rolling_diff</th>\n",
       "      <th>xga_rolling_diff</th>\n",
       "      <th>results_class_home</th>\n",
       "      <th>team_home_code</th>\n",
       "      <th>team_away_code</th>\n",
       "    </tr>\n",
       "  </thead>\n",
       "  <tbody>\n",
       "    <tr>\n",
       "      <th>0</th>\n",
       "      <td>19</td>\n",
       "      <td>5</td>\n",
       "      <td>2.75</td>\n",
       "      <td>1.75</td>\n",
       "      <td>-1.50</td>\n",
       "      <td>1.75</td>\n",
       "      <td>1.50</td>\n",
       "      <td>-6.00</td>\n",
       "      <td>0.675</td>\n",
       "      <td>-0.525</td>\n",
       "      <td>2</td>\n",
       "      <td>18</td>\n",
       "      <td>3</td>\n",
       "    </tr>\n",
       "    <tr>\n",
       "      <th>1</th>\n",
       "      <td>14</td>\n",
       "      <td>5</td>\n",
       "      <td>0.50</td>\n",
       "      <td>-0.50</td>\n",
       "      <td>-0.25</td>\n",
       "      <td>-4.50</td>\n",
       "      <td>-2.00</td>\n",
       "      <td>-12.25</td>\n",
       "      <td>0.050</td>\n",
       "      <td>-0.450</td>\n",
       "      <td>2</td>\n",
       "      <td>14</td>\n",
       "      <td>7</td>\n",
       "    </tr>\n",
       "    <tr>\n",
       "      <th>2</th>\n",
       "      <td>16</td>\n",
       "      <td>5</td>\n",
       "      <td>0.00</td>\n",
       "      <td>1.00</td>\n",
       "      <td>0.75</td>\n",
       "      <td>1.00</td>\n",
       "      <td>1.00</td>\n",
       "      <td>-10.00</td>\n",
       "      <td>0.225</td>\n",
       "      <td>1.250</td>\n",
       "      <td>0</td>\n",
       "      <td>13</td>\n",
       "      <td>0</td>\n",
       "    </tr>\n",
       "    <tr>\n",
       "      <th>3</th>\n",
       "      <td>12</td>\n",
       "      <td>5</td>\n",
       "      <td>-0.75</td>\n",
       "      <td>1.00</td>\n",
       "      <td>0.50</td>\n",
       "      <td>6.25</td>\n",
       "      <td>1.75</td>\n",
       "      <td>-4.00</td>\n",
       "      <td>1.125</td>\n",
       "      <td>0.100</td>\n",
       "      <td>0</td>\n",
       "      <td>1</td>\n",
       "      <td>17</td>\n",
       "    </tr>\n",
       "    <tr>\n",
       "      <th>4</th>\n",
       "      <td>20</td>\n",
       "      <td>1</td>\n",
       "      <td>-2.00</td>\n",
       "      <td>-0.75</td>\n",
       "      <td>1.75</td>\n",
       "      <td>1.75</td>\n",
       "      <td>1.50</td>\n",
       "      <td>4.00</td>\n",
       "      <td>-0.625</td>\n",
       "      <td>1.550</td>\n",
       "      <td>0</td>\n",
       "      <td>9</td>\n",
       "      <td>10</td>\n",
       "    </tr>\n",
       "  </tbody>\n",
       "</table>\n",
       "</div>"
      ],
      "text/plain": [
       "   hour  day_code  points_rolling_diff  gf_rolling_diff  ga_rolling_diff  \\\n",
       "0    19         5                 2.75             1.75            -1.50   \n",
       "1    14         5                 0.50            -0.50            -0.25   \n",
       "2    16         5                 0.00             1.00             0.75   \n",
       "3    12         5                -0.75             1.00             0.50   \n",
       "4    20         1                -2.00            -0.75             1.75   \n",
       "\n",
       "   sh_rolling_diff  sot_rolling_diff  poss_rolling_diff  xg_rolling_diff  \\\n",
       "0             1.75              1.50              -6.00            0.675   \n",
       "1            -4.50             -2.00             -12.25            0.050   \n",
       "2             1.00              1.00             -10.00            0.225   \n",
       "3             6.25              1.75              -4.00            1.125   \n",
       "4             1.75              1.50               4.00           -0.625   \n",
       "\n",
       "   xga_rolling_diff  results_class_home  team_home_code  team_away_code  \n",
       "0            -0.525                   2              18               3  \n",
       "1            -0.450                   2              14               7  \n",
       "2             1.250                   0              13               0  \n",
       "3             0.100                   0               1              17  \n",
       "4             1.550                   0               9              10  "
      ]
     },
     "execution_count": 40,
     "metadata": {},
     "output_type": "execute_result"
    }
   ],
   "source": [
    "final_df.head()"
   ]
  },
  {
   "cell_type": "code",
   "execution_count": 41,
   "metadata": {},
   "outputs": [],
   "source": [
    "#normalise feature values\n",
    "# from sklearn import preprocessing\n",
    "\n",
    "# d = preprocessing.normalize(final_df.drop(\"results_class_home\", axis=1), axis=0)\n",
    "# scaled_df = pd.DataFrame(d, columns=final_df.drop(\"results_class_home\", axis=1).columns)\n",
    "# scaled_df = scaled_df.join(final_df[\"results_class_home\"])"
   ]
  },
  {
   "cell_type": "code",
   "execution_count": 42,
   "metadata": {},
   "outputs": [],
   "source": [
    "# scaled_df.head()"
   ]
  },
  {
   "cell_type": "code",
   "execution_count": 78,
   "metadata": {},
   "outputs": [],
   "source": [
    "from sklearn.model_selection import train_test_split\n",
    "\n",
    "#test/train split - stratified sampling (equal weights of each class in test/train)\n",
    "X_train, X_test, y_train, y_test = train_test_split(final_df.drop(\"results_class_home\", axis=1), final_df[\"results_class_home\"], test_size=0.2, stratify = final_df[\"results_class_home\"])"
   ]
  },
  {
   "cell_type": "code",
   "execution_count": 79,
   "metadata": {},
   "outputs": [
    {
     "data": {
      "text/html": [
       "<div>\n",
       "<style scoped>\n",
       "    .dataframe tbody tr th:only-of-type {\n",
       "        vertical-align: middle;\n",
       "    }\n",
       "\n",
       "    .dataframe tbody tr th {\n",
       "        vertical-align: top;\n",
       "    }\n",
       "\n",
       "    .dataframe thead th {\n",
       "        text-align: right;\n",
       "    }\n",
       "</style>\n",
       "<table border=\"1\" class=\"dataframe\">\n",
       "  <thead>\n",
       "    <tr style=\"text-align: right;\">\n",
       "      <th></th>\n",
       "      <th>hour</th>\n",
       "      <th>day_code</th>\n",
       "      <th>points_rolling_diff</th>\n",
       "      <th>gf_rolling_diff</th>\n",
       "      <th>ga_rolling_diff</th>\n",
       "      <th>sh_rolling_diff</th>\n",
       "      <th>sot_rolling_diff</th>\n",
       "      <th>poss_rolling_diff</th>\n",
       "      <th>xg_rolling_diff</th>\n",
       "      <th>xga_rolling_diff</th>\n",
       "      <th>team_home_code</th>\n",
       "      <th>team_away_code</th>\n",
       "    </tr>\n",
       "  </thead>\n",
       "  <tbody>\n",
       "    <tr>\n",
       "      <th>70</th>\n",
       "      <td>12</td>\n",
       "      <td>5</td>\n",
       "      <td>0.00</td>\n",
       "      <td>0.50</td>\n",
       "      <td>-0.50</td>\n",
       "      <td>2.75</td>\n",
       "      <td>0.25</td>\n",
       "      <td>-18.25</td>\n",
       "      <td>0.250</td>\n",
       "      <td>-0.300</td>\n",
       "      <td>21</td>\n",
       "      <td>12</td>\n",
       "    </tr>\n",
       "    <tr>\n",
       "      <th>441</th>\n",
       "      <td>14</td>\n",
       "      <td>6</td>\n",
       "      <td>-0.75</td>\n",
       "      <td>0.25</td>\n",
       "      <td>0.50</td>\n",
       "      <td>-0.50</td>\n",
       "      <td>-0.25</td>\n",
       "      <td>-6.50</td>\n",
       "      <td>0.375</td>\n",
       "      <td>0.475</td>\n",
       "      <td>17</td>\n",
       "      <td>22</td>\n",
       "    </tr>\n",
       "    <tr>\n",
       "      <th>661</th>\n",
       "      <td>19</td>\n",
       "      <td>6</td>\n",
       "      <td>-2.25</td>\n",
       "      <td>-2.25</td>\n",
       "      <td>0.00</td>\n",
       "      <td>-5.25</td>\n",
       "      <td>0.50</td>\n",
       "      <td>6.00</td>\n",
       "      <td>-1.400</td>\n",
       "      <td>0.650</td>\n",
       "      <td>22</td>\n",
       "      <td>0</td>\n",
       "    </tr>\n",
       "    <tr>\n",
       "      <th>442</th>\n",
       "      <td>20</td>\n",
       "      <td>0</td>\n",
       "      <td>-1.00</td>\n",
       "      <td>-0.75</td>\n",
       "      <td>0.75</td>\n",
       "      <td>-2.75</td>\n",
       "      <td>-1.25</td>\n",
       "      <td>-3.00</td>\n",
       "      <td>-0.475</td>\n",
       "      <td>0.075</td>\n",
       "      <td>6</td>\n",
       "      <td>3</td>\n",
       "    </tr>\n",
       "    <tr>\n",
       "      <th>336</th>\n",
       "      <td>14</td>\n",
       "      <td>6</td>\n",
       "      <td>1.25</td>\n",
       "      <td>1.50</td>\n",
       "      <td>-0.75</td>\n",
       "      <td>1.75</td>\n",
       "      <td>1.00</td>\n",
       "      <td>0.25</td>\n",
       "      <td>0.500</td>\n",
       "      <td>0.275</td>\n",
       "      <td>18</td>\n",
       "      <td>22</td>\n",
       "    </tr>\n",
       "  </tbody>\n",
       "</table>\n",
       "</div>"
      ],
      "text/plain": [
       "     hour  day_code  points_rolling_diff  gf_rolling_diff  ga_rolling_diff  \\\n",
       "70     12         5                 0.00             0.50            -0.50   \n",
       "441    14         6                -0.75             0.25             0.50   \n",
       "661    19         6                -2.25            -2.25             0.00   \n",
       "442    20         0                -1.00            -0.75             0.75   \n",
       "336    14         6                 1.25             1.50            -0.75   \n",
       "\n",
       "     sh_rolling_diff  sot_rolling_diff  poss_rolling_diff  xg_rolling_diff  \\\n",
       "70              2.75              0.25             -18.25            0.250   \n",
       "441            -0.50             -0.25              -6.50            0.375   \n",
       "661            -5.25              0.50               6.00           -1.400   \n",
       "442            -2.75             -1.25              -3.00           -0.475   \n",
       "336             1.75              1.00               0.25            0.500   \n",
       "\n",
       "     xga_rolling_diff  team_home_code  team_away_code  \n",
       "70             -0.300              21              12  \n",
       "441             0.475              17              22  \n",
       "661             0.650              22               0  \n",
       "442             0.075               6               3  \n",
       "336             0.275              18              22  "
      ]
     },
     "execution_count": 79,
     "metadata": {},
     "output_type": "execute_result"
    }
   ],
   "source": [
    "X_train.head()"
   ]
  },
  {
   "cell_type": "code",
   "execution_count": 80,
   "metadata": {},
   "outputs": [],
   "source": [
    "# X_train = train.drop(\"points_home\", axis=1)\n",
    "# y_train = train[\"points_home\"]"
   ]
  },
  {
   "cell_type": "code",
   "execution_count": 81,
   "metadata": {},
   "outputs": [],
   "source": [
    "# X_test = test.drop(\"points_home\", axis=1)\n",
    "# y_test = test[\"points_home\"]"
   ]
  },
  {
   "cell_type": "code",
   "execution_count": 82,
   "metadata": {},
   "outputs": [
    {
     "data": {
      "text/plain": [
       "'day_code'"
      ]
     },
     "execution_count": 82,
     "metadata": {},
     "output_type": "execute_result"
    }
   ],
   "source": [
    "X_train.columns[1]"
   ]
  },
  {
   "cell_type": "code",
   "execution_count": 83,
   "metadata": {},
   "outputs": [
    {
     "data": {
      "text/plain": [
       "<matplotlib.legend.Legend at 0x22dba3d6fd0>"
      ]
     },
     "execution_count": 83,
     "metadata": {},
     "output_type": "execute_result"
    },
    {
     "data": {
      "image/png": "[encoded data removed]",
      "text/plain": [
       "<Figure size 1296x720 with 1 Axes>"
      ]
     },
     "metadata": {
      "needs_background": "light"
     },
     "output_type": "display_data"
    }
   ],
   "source": [
    "#viusalise general relationship between variables and target\n",
    "import matplotlib.pyplot as plt\n",
    "import seaborn as sns\n",
    "import numpy as np\n",
    "\n",
    "fig, ax = plt.subplots(figsize=(18, 10))\n",
    "ax.set_xlabel('Target', fontsize=10)\n",
    "ax.set_ylabel('Feature', fontsize='medium')\n",
    "\n",
    "x=y_train\n",
    "\n",
    "for i in range(len(X_train.columns)):\n",
    "    y=X_train.iloc[:,i]\n",
    "    plt.scatter(y=y, x=x, label=X_train.columns[i])\n",
    "    z = np.polyfit(x, y, 1)\n",
    "    p = np.poly1d(z)\n",
    "    plt.plot(x, p(x))\n",
    "    \n",
    "ax.legend(loc='best', ncol=8)"
   ]
  },
  {
   "cell_type": "code",
   "execution_count": 84,
   "metadata": {},
   "outputs": [],
   "source": [
    "import xgboost as xgb\n",
    "from hyperopt import hp, Trials, fmin, tpe, STATUS_OK\n",
    "import numpy as np"
   ]
  },
  {
   "cell_type": "code",
   "execution_count": 85,
   "metadata": {},
   "outputs": [],
   "source": [
    "def getBestModelfromTrials(trials):\n",
    "    valid_trial_list = [trial for trial in trials\n",
    "                            if STATUS_OK == trial['result']['status']]\n",
    "    losses = [ float(trial['result']['loss']) for trial in valid_trial_list]\n",
    "    index_having_minumum_loss = np.argmin(losses)\n",
    "    best_trial_obj = valid_trial_list[index_having_minumum_loss]\n",
    "    return best_trial_obj['result']['model']"
   ]
  },
  {
   "cell_type": "code",
   "execution_count": 86,
   "metadata": {},
   "outputs": [],
   "source": [
    "from sklearn.metrics import accuracy_score"
   ]
  },
  {
   "cell_type": "markdown",
   "metadata": {},
   "source": [
    "### XGBoost Regression"
   ]
  },
  {
   "cell_type": "code",
   "execution_count": 87,
   "metadata": {},
   "outputs": [],
   "source": [
    "# xgbreg = xgb.XGBRegressor(objective=\"reg:squarederror\", \n",
    "#                           random_state=42\n",
    "#                          )"
   ]
  },
  {
   "cell_type": "code",
   "execution_count": 88,
   "metadata": {},
   "outputs": [],
   "source": [
    "# xgbreg.fit(X_train, y_train)"
   ]
  },
  {
   "cell_type": "code",
   "execution_count": 89,
   "metadata": {},
   "outputs": [],
   "source": [
    "# y_pred = xgbreg.predict(X_test)"
   ]
  },
  {
   "cell_type": "code",
   "execution_count": 90,
   "metadata": {},
   "outputs": [],
   "source": [
    "# len(y_test)"
   ]
  },
  {
   "cell_type": "code",
   "execution_count": 91,
   "metadata": {},
   "outputs": [],
   "source": [
    "# len(y_pred)"
   ]
  },
  {
   "cell_type": "code",
   "execution_count": 92,
   "metadata": {},
   "outputs": [],
   "source": [
    "# len(X_train.columns)"
   ]
  },
  {
   "cell_type": "code",
   "execution_count": 93,
   "metadata": {},
   "outputs": [],
   "source": [
    "# from sklearn.metrics import r2_score"
   ]
  },
  {
   "cell_type": "code",
   "execution_count": 94,
   "metadata": {},
   "outputs": [],
   "source": [
    "# r2_score(y_test, y_pred)"
   ]
  },
  {
   "cell_type": "code",
   "execution_count": 95,
   "metadata": {},
   "outputs": [],
   "source": [
    "# def objective_xgbreg(space):\n",
    "    \n",
    "#     model = xgb.XGBRegressor(objective=\"reg:squarederror\", \n",
    "#                              max_depth=int(space['max_depth']),\n",
    "#                              min_child_weight=int(space['min_child_weight']),\n",
    "#                              n_estimators=int(space['n_estimators']),\n",
    "#                              eval_metric=\"rmse\",\n",
    "#                              early_stopping_rounds=10,\n",
    "#                              random_state=42\n",
    "#                             )\n",
    "    \n",
    "#     evaluation=[(X_test, y_test)]\n",
    "    \n",
    "#     model.fit(X_train, y_train, eval_set=evaluation, verbose=False)\n",
    "    \n",
    "#     y_pred = model.predict(X_test)\n",
    "#     score = r2_score(y_test, y_pred)\n",
    "    \n",
    "#     loss = 1 - score\n",
    "    \n",
    "#     return {'loss': loss, 'status': STATUS_OK, 'model': model}"
   ]
  },
  {
   "cell_type": "code",
   "execution_count": 96,
   "metadata": {},
   "outputs": [],
   "source": [
    "# space={'max_depth': hp.quniform(\"max_depth\", 1, 18, 1),\n",
    "#        'min_child_weight' : hp.quniform('min_child_weight', 0, 1000, 1),\n",
    "#        'n_estimators': hp.quniform(\"n_estimators\", 1, 1000, 1)\n",
    "#       }"
   ]
  },
  {
   "cell_type": "code",
   "execution_count": 97,
   "metadata": {},
   "outputs": [],
   "source": [
    "# xgbreg_trials = Trials()"
   ]
  },
  {
   "cell_type": "code",
   "execution_count": 98,
   "metadata": {},
   "outputs": [],
   "source": [
    "# best_params_xgb = fmin(\n",
    "#     fn=objective_xgbreg,\n",
    "#     space=space,\n",
    "#     algo=tpe.suggest,\n",
    "#     trials=xgb_trials,\n",
    "#     max_evals=1000)"
   ]
  },
  {
   "cell_type": "code",
   "execution_count": 99,
   "metadata": {},
   "outputs": [],
   "source": [
    "# print(best_params_xgb)"
   ]
  },
  {
   "cell_type": "code",
   "execution_count": 100,
   "metadata": {},
   "outputs": [],
   "source": [
    "# xgbreg_model = getBestModelfromTrials(xgbreg_trials)"
   ]
  },
  {
   "cell_type": "code",
   "execution_count": 101,
   "metadata": {},
   "outputs": [],
   "source": [
    "# pred = xgbreg_model.predict(X_test)"
   ]
  },
  {
   "cell_type": "code",
   "execution_count": 102,
   "metadata": {},
   "outputs": [],
   "source": [
    "# pred_rnd = np.around(pred)"
   ]
  },
  {
   "cell_type": "code",
   "execution_count": 103,
   "metadata": {},
   "outputs": [],
   "source": [
    "# r2_score(y_test, pred)"
   ]
  },
  {
   "cell_type": "code",
   "execution_count": 104,
   "metadata": {},
   "outputs": [],
   "source": [
    "# xgbreg_model"
   ]
  },
  {
   "cell_type": "markdown",
   "metadata": {},
   "source": [
    "### XGBoost Classification"
   ]
  },
  {
   "cell_type": "code",
   "execution_count": 105,
   "metadata": {},
   "outputs": [],
   "source": [
    "xgbclf = xgb.XGBClassifier(objective=\"multi:softmax\", \n",
    "                          random_state=42\n",
    "                         )"
   ]
  },
  {
   "cell_type": "code",
   "execution_count": 106,
   "metadata": {},
   "outputs": [
    {
     "data": {
      "text/plain": [
       "XGBClassifier(base_score=0.5, booster='gbtree', callbacks=None,\n",
       "              colsample_bylevel=1, colsample_bynode=1, colsample_bytree=1,\n",
       "              early_stopping_rounds=None, enable_categorical=False,\n",
       "              eval_metric=None, feature_types=None, gamma=0, gpu_id=-1,\n",
       "              grow_policy='depthwise', importance_type=None,\n",
       "              interaction_constraints='', learning_rate=0.300000012,\n",
       "              max_bin=256, max_cat_threshold=64, max_cat_to_onehot=4,\n",
       "              max_delta_step=0, max_depth=6, max_leaves=0, min_child_weight=1,\n",
       "              missing=nan, monotone_constraints='()', n_estimators=100,\n",
       "              n_jobs=0, num_parallel_tree=1, objective='multi:softmax',\n",
       "              predictor='auto', ...)"
      ]
     },
     "execution_count": 106,
     "metadata": {},
     "output_type": "execute_result"
    }
   ],
   "source": [
    "xgbclf.fit(X_train, y_train)"
   ]
  },
  {
   "cell_type": "code",
   "execution_count": 107,
   "metadata": {},
   "outputs": [],
   "source": [
    "clf_pred = xgbclf.predict(X_test)"
   ]
  },
  {
   "cell_type": "code",
   "execution_count": 108,
   "metadata": {},
   "outputs": [
    {
     "data": {
      "text/plain": [
       "0.4338235294117647"
      ]
     },
     "execution_count": 108,
     "metadata": {},
     "output_type": "execute_result"
    }
   ],
   "source": [
    "accuracy_score(y_test, clf_pred)"
   ]
  },
  {
   "cell_type": "code",
   "execution_count": 109,
   "metadata": {},
   "outputs": [],
   "source": [
    "def objective_xgbclf(space):\n",
    "    \n",
    "    model = xgb.XGBClassifier(objective=\"multi:softmax\", \n",
    "                              num_class=3,\n",
    "                              max_depth=int(space['max_depth']),\n",
    "                              min_child_weight=int(space['min_child_weight']),\n",
    "                              n_estimators=int(space['n_estimators']),\n",
    "                              eval_metric=\"mlogloss\",\n",
    "                              early_stopping_rounds=10,\n",
    "                              random_state=42\n",
    "                             )\n",
    "    \n",
    "    evaluation=[(X_test, y_test)]\n",
    "    \n",
    "    model.fit(X_train, y_train, eval_set=evaluation, verbose=False)\n",
    "    \n",
    "    y_pred = model.predict(X_test)\n",
    "    score = accuracy_score(y_test, y_pred)\n",
    "    \n",
    "    loss = 1-score\n",
    "    \n",
    "    return {'loss': loss, 'status': STATUS_OK, 'model': model}"
   ]
  },
  {
   "cell_type": "code",
   "execution_count": 110,
   "metadata": {},
   "outputs": [],
   "source": [
    "space={'max_depth': hp.quniform(\"max_depth\", 1, 18, 1),\n",
    "       'min_child_weight' : hp.quniform('min_child_weight', 0, 1000, 1),\n",
    "       'n_estimators': hp.quniform(\"n_estimators\", 1, 1000, 1)\n",
    "      }"
   ]
  },
  {
   "cell_type": "code",
   "execution_count": 111,
   "metadata": {},
   "outputs": [],
   "source": [
    "xgbclf_trials = Trials()"
   ]
  },
  {
   "cell_type": "code",
   "execution_count": 112,
   "metadata": {},
   "outputs": [
    {
     "name": "stdout",
     "output_type": "stream",
     "text": [
      "100%|██████████| 1000/1000 [03:18<00:00,  5.05trial/s, best loss: 0.4779411764705882]\n"
     ]
    }
   ],
   "source": [
    "best_params_xgbclf = fmin(\n",
    "    fn=objective_xgbclf,\n",
    "    space=space,\n",
    "    algo=tpe.suggest,\n",
    "    trials=xgbclf_trials,\n",
    "    max_evals=1000)"
   ]
  },
  {
   "cell_type": "code",
   "execution_count": 113,
   "metadata": {},
   "outputs": [
    {
     "data": {
      "text/plain": [
       "{'max_depth': 12.0, 'min_child_weight': 40.0, 'n_estimators': 362.0}"
      ]
     },
     "execution_count": 113,
     "metadata": {},
     "output_type": "execute_result"
    }
   ],
   "source": [
    "best_params_xgbclf"
   ]
  },
  {
   "cell_type": "code",
   "execution_count": 114,
   "metadata": {},
   "outputs": [],
   "source": [
    "xgbclf_model = getBestModelfromTrials(xgbclf_trials)"
   ]
  },
  {
   "cell_type": "code",
   "execution_count": 115,
   "metadata": {},
   "outputs": [],
   "source": [
    "pred = xgbclf_model.predict(X_test)"
   ]
  },
  {
   "cell_type": "code",
   "execution_count": 116,
   "metadata": {},
   "outputs": [
    {
     "data": {
      "text/plain": [
       "array([2, 0, 2, 2, 2, 0, 2, 2, 0, 2, 2, 2, 0, 0, 2, 2, 2, 2, 2, 2, 0, 0,\n",
       "       2, 2, 0, 0, 2, 2, 2, 0, 0, 0, 2, 0, 0, 2, 2, 2, 0, 0, 0, 2, 0, 0,\n",
       "       0, 2, 0, 2, 0, 0, 2, 0, 0, 0, 2, 2, 2, 2, 2, 0, 0, 2, 1, 0, 0, 2,\n",
       "       0, 0, 2, 2, 0, 2, 2, 2, 0, 0, 2, 2, 2, 2, 2, 2, 0, 0, 2, 2, 0, 2,\n",
       "       2, 2, 2, 2, 0, 2, 2, 2, 0, 2, 0, 0, 0, 2, 0, 2, 0, 2, 2, 0, 2, 2,\n",
       "       2, 0, 0, 2, 0, 2, 0, 2, 2, 2, 2, 0, 0, 0, 0, 2, 2, 0, 0, 0, 2, 1,\n",
       "       2, 2, 0, 2])"
      ]
     },
     "execution_count": 116,
     "metadata": {},
     "output_type": "execute_result"
    }
   ],
   "source": [
    "pred"
   ]
  },
  {
   "cell_type": "code",
   "execution_count": 117,
   "metadata": {},
   "outputs": [
    {
     "data": {
      "text/plain": [
       "0.5220588235294118"
      ]
     },
     "execution_count": 117,
     "metadata": {},
     "output_type": "execute_result"
    }
   ],
   "source": [
    "accuracy_score(y_test, pred)"
   ]
  },
  {
   "cell_type": "code",
   "execution_count": 118,
   "metadata": {},
   "outputs": [
    {
     "data": {
      "text/plain": [
       "XGBClassifier(base_score=0.5, booster='gbtree', callbacks=None,\n",
       "              colsample_bylevel=1, colsample_bynode=1, colsample_bytree=1,\n",
       "              early_stopping_rounds=10, enable_categorical=False,\n",
       "              eval_metric='mlogloss', feature_types=None, gamma=0, gpu_id=-1,\n",
       "              grow_policy='depthwise', importance_type=None,\n",
       "              interaction_constraints='', learning_rate=0.300000012,\n",
       "              max_bin=256, max_cat_threshold=64, max_cat_to_onehot=4,\n",
       "              max_delta_step=0, max_depth=12, max_leaves=0, min_child_weight=40,\n",
       "              missing=nan, monotone_constraints='()', n_estimators=362,\n",
       "              n_jobs=0, num_class=3, num_parallel_tree=1,\n",
       "              objective='multi:softmax', ...)"
      ]
     },
     "execution_count": 118,
     "metadata": {},
     "output_type": "execute_result"
    }
   ],
   "source": [
    "xgbclf_model"
   ]
  },
  {
   "cell_type": "code",
   "execution_count": 119,
   "metadata": {},
   "outputs": [],
   "source": [
    "from sklearn.inspection import permutation_importance\n",
    "from matplotlib import pyplot as plt"
   ]
  },
  {
   "cell_type": "code",
   "execution_count": 120,
   "metadata": {},
   "outputs": [
    {
     "data": {
      "text/plain": [
       "Text(0.5, 0, 'Feature Importance')"
      ]
     },
     "execution_count": 120,
     "metadata": {},
     "output_type": "execute_result"
    },
    {
     "data": {
      "image/png": "[encoded data removed]",
      "text/plain": [
       "<Figure size 432x288 with 1 Axes>"
      ]
     },
     "metadata": {
      "needs_background": "light"
     },
     "output_type": "display_data"
    }
   ],
   "source": [
    "sort = xgbclf_model.feature_importances_.argsort()\n",
    "plt.barh(X_train.columns[sort], xgbclf_model.feature_importances_[sort])\n",
    "plt.xlabel(\"Feature Importance\")"
   ]
  },
  {
   "cell_type": "markdown",
   "metadata": {},
   "source": [
    "### Multi Classifier Model Test"
   ]
  },
  {
   "cell_type": "code",
   "execution_count": null,
   "metadata": {},
   "outputs": [],
   "source": [
    "from sklearn.neighbors import KNeighborsClassifier\n",
    "from sklearn.linear_model import LogisticRegression\n",
    "from sklearn.svm import SVC\n",
    "from sklearn.gaussian_process import GaussianProcessClassifier\n",
    "from sklearn.gaussian_process.kernels import RBF\n",
    "from sklearn.tree import DecisionTreeClassifier\n",
    "from sklearn.ensemble import RandomForestClassifier, AdaBoostClassifier\n",
    "from sklearn.neural_network import MLPClassifier\n",
    "from sklearn.naive_bayes import GaussianNB\n",
    "from sklearn.discriminant_analysis import QuadraticDiscriminantAnalysis"
   ]
  },
  {
   "cell_type": "code",
   "execution_count": null,
   "metadata": {},
   "outputs": [],
   "source": [
    "names = [\"Nearest Neighbors\", \"Logistic Regression\",\"Linear SVM\", \"RBF SVM\", \"Gaussian Process\",\n",
    "         \"Decision Tree\", \"Random Forest\", \"Neural Net\", \"AdaBoost\",\n",
    "         \"Naive Bayes\", \"QDA\"]\n",
    "\n",
    "classifiers = [\n",
    "    KNeighborsClassifier(3),\n",
    "    LogisticRegression(),\n",
    "    SVC(kernel=\"linear\", C=0.025, probability=True),\n",
    "    SVC(gamma=2, C=1, probability=True),\n",
    "    GaussianProcessClassifier(1.0 * RBF(1.0)),\n",
    "    DecisionTreeClassifier(max_depth=5),\n",
    "    RandomForestClassifier(max_depth=5, n_estimators=10, max_features=1),\n",
    "    MLPClassifier(alpha=1, max_iter=1000),\n",
    "    AdaBoostClassifier(),\n",
    "    GaussianNB(),\n",
    "    QuadraticDiscriminantAnalysis()]"
   ]
  },
  {
   "cell_type": "code",
   "execution_count": null,
   "metadata": {},
   "outputs": [],
   "source": [
    "for name, clf in zip(names, classifiers):\n",
    "        clf.fit(X_train, y_train)\n",
    "        accuracy = clf.score(X_test, y_test)\n",
    "\n",
    "        # prediction_proba = clf.predict_proba(X_test)\n",
    "        # logloss = log_loss(y_test,prediction_proba)\n",
    "        # precision, recall, fscore, support = score(y_test, prediction)\n",
    "        # conf_martrix = confusion_matrix(y_test, prediction)\n",
    "        # clas_report = classification_report(y_test, prediction)\n",
    "\n",
    "        print(name, accuracy)"
   ]
  },
  {
   "cell_type": "markdown",
   "metadata": {},
   "source": [
    "### Linear SVM Optimisation"
   ]
  },
  {
   "cell_type": "code",
   "execution_count": null,
   "metadata": {},
   "outputs": [],
   "source": [
    "lin_svm = SVC(kernel=\"linear\", C=0.025, probability=True)"
   ]
  },
  {
   "cell_type": "code",
   "execution_count": null,
   "metadata": {},
   "outputs": [],
   "source": [
    "lin_svm.fit(X_train, y_train)"
   ]
  },
  {
   "cell_type": "code",
   "execution_count": null,
   "metadata": {},
   "outputs": [],
   "source": [
    "svm_pred = lin_svm.predict(X_test)"
   ]
  },
  {
   "cell_type": "code",
   "execution_count": null,
   "metadata": {},
   "outputs": [],
   "source": [
    "from sklearn.metrics import accuracy_score"
   ]
  },
  {
   "cell_type": "code",
   "execution_count": null,
   "metadata": {},
   "outputs": [],
   "source": [
    "accuracy_score(y_test, svm_pred)"
   ]
  },
  {
   "cell_type": "code",
   "execution_count": null,
   "metadata": {},
   "outputs": [],
   "source": [
    "def objective_svm(space):\n",
    "    \n",
    "    model = SVC(C=space['C'],\n",
    "                gamma=float(space['gamma']),\n",
    "                degree=int(space['degree']),\n",
    "                kernel='linear',\n",
    "                probability=True,\n",
    "                random_state=42\n",
    "               )\n",
    "    \n",
    "    model.fit(X_train, y_train)\n",
    "    \n",
    "    pred = model.predict(X_test)\n",
    "    score = accuracy_score(y_test, pred)\n",
    "    \n",
    "    loss = 1 - score\n",
    "    \n",
    "    return {'loss': loss, 'status': STATUS_OK, 'model': model}"
   ]
  },
  {
   "cell_type": "code",
   "execution_count": null,
   "metadata": {},
   "outputs": [],
   "source": [
    "space={'C': hp.lognormal('C', 0, 1),\n",
    "       'gamma' : hp.lognormal('gamma', 0, 1),\n",
    "       'degree': hp.choice('degree', [1, 5])\n",
    "      }"
   ]
  },
  {
   "cell_type": "code",
   "execution_count": null,
   "metadata": {},
   "outputs": [],
   "source": [
    "svm_trials = Trials()"
   ]
  },
  {
   "cell_type": "code",
   "execution_count": null,
   "metadata": {},
   "outputs": [],
   "source": [
    "best_params_svm = fmin(\n",
    "    fn=objective_svm,\n",
    "    space=space,\n",
    "    algo=tpe.suggest,\n",
    "    trials=svm_trials,\n",
    "    max_evals=200)"
   ]
  },
  {
   "cell_type": "code",
   "execution_count": null,
   "metadata": {},
   "outputs": [],
   "source": [
    "svm_model = getBestModelfromTrials(svm_trials)"
   ]
  },
  {
   "cell_type": "code",
   "execution_count": null,
   "metadata": {},
   "outputs": [],
   "source": [
    "pred = svm_model.predict(X_test)"
   ]
  },
  {
   "cell_type": "code",
   "execution_count": null,
   "metadata": {},
   "outputs": [],
   "source": [
    "pred"
   ]
  },
  {
   "cell_type": "code",
   "execution_count": null,
   "metadata": {},
   "outputs": [],
   "source": [
    "accuracy_score(y_test, pred)"
   ]
  },
  {
   "cell_type": "code",
   "execution_count": null,
   "metadata": {},
   "outputs": [],
   "source": [
    "svm_model"
   ]
  },
  {
   "cell_type": "code",
   "execution_count": null,
   "metadata": {},
   "outputs": [],
   "source": []
  }
 ],
 "metadata": {
  "kernelspec": {
   "display_name": "Python 3",
   "language": "python",
   "name": "python3"
  },
  "language_info": {
   "codemirror_mode": {
    "name": "ipython",
    "version": 3
   },
   "file_extension": ".py",
   "mimetype": "text/x-python",
   "name": "python",
   "nbconvert_exporter": "python",
   "pygments_lexer": "ipython3",
   "version": "3.8.3"
  }
 },
 "nbformat": 4,
 "nbformat_minor": 4
}
